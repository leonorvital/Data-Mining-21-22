{
 "cells": [
  {
   "cell_type": "markdown",
   "metadata": {},
   "source": [
    "## Install a package from a different conda channel\n",
    "\n",
    "Open a terminal and run the following commands:\n",
    "\n",
    "    conda activate <ENV_NAME>\n",
    "    conda install -c conda-forge pandas-profiling -y\n",
    "  \n",
    "- The `<ENV_NAME>` refers to the name of the environment you'll be working with for this project\n",
    "- The `!` indicates a terminal command\n",
    "- The `-c` flag indicates the channel we're using to get the package\n",
    "- The `-y` flag indicates that we're confirming the installation of pandas-profiling and its dependencies a priori\n",
    "\n",
    "We're installing `pandas-profiling` through this method because Anaconda's `default` channel contains an outdated version of this package, whereas the channel `conda-forge` has an updated version."
   ]
  },
  {
   "cell_type": "code",
   "execution_count": 1,
   "metadata": {},
   "outputs": [
    {
     "name": "stdout",
     "output_type": "stream",
     "text": [
      "Collecting package metadata (current_repodata.json): ...working... done\n",
      "Solving environment: ...working... done\n",
      "\n",
      "# All requested packages already installed.\n",
      "\n"
     ]
    }
   ],
   "source": [
    "!conda install -c conda-forge pandas-profiling -y \n"
   ]
  },
  {
   "cell_type": "code",
   "execution_count": 2,
   "metadata": {},
   "outputs": [],
   "source": [
    "# Remember: library imports are ALWAYS at the top of the script, no exceptions!\n",
    "import sqlite3\n",
    "import os\n",
    "import pandas as pd\n",
    "import numpy as np\n",
    "import matplotlib.pyplot as plt\n",
    "import seaborn as sns\n",
    "from math import ceil\n",
    "\n",
    "# notice we are adding two new imports for visualizations; This was not here last class\n",
    "from itertools import product \n",
    "from pandas_profiling import ProfileReport #help us understand better our data, give insights about outliers, missing data, prossible problems\n",
    "\n",
    "%matplotlib inline\n",
    "\n",
    "# for better resolution plots\n",
    "%config InlineBackend.figure_format = 'retina' # optionally, you can change 'svg' to 'retina'\n",
    "\n",
    "# Seeting seaborn style\n",
    "sns.set()"
   ]
  },
  {
   "cell_type": "markdown",
   "metadata": {},
   "source": [
    "# Context\n",
    "The data we will be using through the pratical classes comes from a small relational database whose schema can be seen below:\n",
    "![alt text](../figures/schema.png \"Relation database schema\")"
   ]
  },
  {
   "cell_type": "markdown",
   "metadata": {},
   "source": [
    "# Reading the Data"
   ]
  },
  {
   "cell_type": "code",
   "execution_count": null,
   "metadata": {},
   "outputs": [],
   "source": []
  },
  {
   "cell_type": "code",
   "execution_count": 3,
   "metadata": {},
   "outputs": [],
   "source": [
    "# path to database\n",
    "my_path = os.path.join(\"..\", \"data\", \"datamining.db\")\n",
    "\n",
    "# connect to the database\n",
    "conn = sqlite3.connect(my_path)\n",
    "\n",
    "# the query\n",
    "query = \"\"\"\n",
    "select\n",
    "    age, \n",
    "    income, \n",
    "    frq, \n",
    "    rcn, \n",
    "    mnt, \n",
    "    clothes, \n",
    "    kitchen, \n",
    "    small_appliances, \n",
    "    toys, \n",
    "    house_keeping,\n",
    "    dependents, \n",
    "    per_net_purchase,\n",
    "    g.gender, \n",
    "    e.education, \n",
    "    m.status, \n",
    "    r.description\n",
    "from customers as c \n",
    "    join genders as g on g.id = c.gender_id\n",
    "    join education_levels as e on e.id = c.education_id\n",
    "    join marital_status as m on m.id = c.marital_status_id\n",
    "    join recommendations as r on r.id = c.recommendation_id\n",
    "order by c.id;\n",
    "\"\"\"\n",
    "\n",
    "##secudary data - are related with the primary data (THE SECOND FROM OF THE QUERY)\n",
    "\n",
    "df = pd.read_sql_query(query, conn)"
   ]
  },
  {
   "cell_type": "markdown",
   "metadata": {},
   "source": [
    "# Metadata\n",
    "- *id* - The unique identifier of the customer\n",
    "- *age* - The year of birht of the customer\n",
    "- *income* - The income of the customer\n",
    "- *frq* - Frequency: number of purchases made by the customer\n",
    "- *rcn* - Recency: number of days since last customer purchase\n",
    "- *mnt* - Monetary: amount of € spent by the customer in purchases\n",
    "- *clothes* - Number of clothes items purchased by the customer\n",
    "- *kitchen* - Number of kitchen items purchased by the customer\n",
    "- *small_appliances* - Number of small_appliances items purchased by the customer\n",
    "- *toys* - Number of toys items purchased by the customer\n",
    "- *house_keeping* - Number of house_keeping items purchased by the customer\n",
    "- *dependents* - Binary. Whether or not the customer has dependents\n",
    "- *per_net_purchase* - Percentage of purchases made online\n",
    "- *education* - Education level of the customer\n",
    "- *status* - Marital status of the customer\n",
    "- *gender* - Gender of the customer\n",
    "- *description* - Last customer's recommendation description"
   ]
  },
  {
   "cell_type": "markdown",
   "metadata": {},
   "source": [
    "# Initial Analysis\n",
    "\n",
    "Pandas user guide: https://pandas.pydata.org/pandas-docs/stable/user_guide/index.html\n",
    "\n",
    "Pandas 10 min tutorial: https://pandas.pydata.org/pandas-docs/stable/user_guide/10min.html"
   ]
  },
  {
   "cell_type": "code",
   "execution_count": 4,
   "metadata": {},
   "outputs": [
    {
     "data": {
      "text/html": [
       "<div>\n",
       "<style scoped>\n",
       "    .dataframe tbody tr th:only-of-type {\n",
       "        vertical-align: middle;\n",
       "    }\n",
       "\n",
       "    .dataframe tbody tr th {\n",
       "        vertical-align: top;\n",
       "    }\n",
       "\n",
       "    .dataframe thead th {\n",
       "        text-align: right;\n",
       "    }\n",
       "</style>\n",
       "<table border=\"1\" class=\"dataframe\">\n",
       "  <thead>\n",
       "    <tr style=\"text-align: right;\">\n",
       "      <th></th>\n",
       "      <th>age</th>\n",
       "      <th>income</th>\n",
       "      <th>frq</th>\n",
       "      <th>rcn</th>\n",
       "      <th>mnt</th>\n",
       "      <th>clothes</th>\n",
       "      <th>kitchen</th>\n",
       "      <th>small_appliances</th>\n",
       "      <th>toys</th>\n",
       "      <th>house_keeping</th>\n",
       "      <th>dependents</th>\n",
       "      <th>per_net_purchase</th>\n",
       "      <th>gender</th>\n",
       "      <th>education</th>\n",
       "      <th>status</th>\n",
       "      <th>description</th>\n",
       "    </tr>\n",
       "  </thead>\n",
       "  <tbody>\n",
       "    <tr>\n",
       "      <th>0</th>\n",
       "      <td>1946</td>\n",
       "      <td>90782</td>\n",
       "      <td>33</td>\n",
       "      <td>66</td>\n",
       "      <td>1402</td>\n",
       "      <td>37</td>\n",
       "      <td>5</td>\n",
       "      <td>44</td>\n",
       "      <td>10</td>\n",
       "      <td>3</td>\n",
       "      <td>0</td>\n",
       "      <td>19</td>\n",
       "      <td>M</td>\n",
       "      <td>Graduation</td>\n",
       "      <td>Together</td>\n",
       "      <td>Take my money!!</td>\n",
       "    </tr>\n",
       "    <tr>\n",
       "      <th>1</th>\n",
       "      <td>1936</td>\n",
       "      <td>113023</td>\n",
       "      <td>32</td>\n",
       "      <td>6</td>\n",
       "      <td>1537</td>\n",
       "      <td>55</td>\n",
       "      <td>1</td>\n",
       "      <td>38</td>\n",
       "      <td>4</td>\n",
       "      <td>2</td>\n",
       "      <td>0</td>\n",
       "      <td>9</td>\n",
       "      <td>F</td>\n",
       "      <td>PhD</td>\n",
       "      <td>Divorced</td>\n",
       "      <td>Take my money!!</td>\n",
       "    </tr>\n",
       "    <tr>\n",
       "      <th>2</th>\n",
       "      <td>1990</td>\n",
       "      <td>28344</td>\n",
       "      <td>11</td>\n",
       "      <td>69</td>\n",
       "      <td>44</td>\n",
       "      <td>32</td>\n",
       "      <td>19</td>\n",
       "      <td>24</td>\n",
       "      <td>1</td>\n",
       "      <td>24</td>\n",
       "      <td>1</td>\n",
       "      <td>59</td>\n",
       "      <td>M</td>\n",
       "      <td>Graduation</td>\n",
       "      <td>Married</td>\n",
       "      <td>Kind of OK</td>\n",
       "    </tr>\n",
       "    <tr>\n",
       "      <th>3</th>\n",
       "      <td>1955</td>\n",
       "      <td>93571</td>\n",
       "      <td>26</td>\n",
       "      <td>10</td>\n",
       "      <td>888</td>\n",
       "      <td>60</td>\n",
       "      <td>10</td>\n",
       "      <td>19</td>\n",
       "      <td>6</td>\n",
       "      <td>5</td>\n",
       "      <td>1</td>\n",
       "      <td>35</td>\n",
       "      <td>F</td>\n",
       "      <td>Master</td>\n",
       "      <td></td>\n",
       "      <td>OK nice!</td>\n",
       "    </tr>\n",
       "    <tr>\n",
       "      <th>4</th>\n",
       "      <td>1955</td>\n",
       "      <td>91852</td>\n",
       "      <td>31</td>\n",
       "      <td>26</td>\n",
       "      <td>1138</td>\n",
       "      <td>59</td>\n",
       "      <td>5</td>\n",
       "      <td>28</td>\n",
       "      <td>4</td>\n",
       "      <td>4</td>\n",
       "      <td>1</td>\n",
       "      <td>34</td>\n",
       "      <td>F</td>\n",
       "      <td>Graduation</td>\n",
       "      <td>Together</td>\n",
       "      <td>Take my money!!</td>\n",
       "    </tr>\n",
       "    <tr>\n",
       "      <th>5</th>\n",
       "      <td>1982</td>\n",
       "      <td>22386</td>\n",
       "      <td>14</td>\n",
       "      <td>65</td>\n",
       "      <td>56</td>\n",
       "      <td>47</td>\n",
       "      <td>2</td>\n",
       "      <td>48</td>\n",
       "      <td>2</td>\n",
       "      <td>1</td>\n",
       "      <td>1</td>\n",
       "      <td>67</td>\n",
       "      <td>M</td>\n",
       "      <td>PhD</td>\n",
       "      <td>Single</td>\n",
       "      <td>OK nice!</td>\n",
       "    </tr>\n",
       "    <tr>\n",
       "      <th>6</th>\n",
       "      <td>1969</td>\n",
       "      <td>69485</td>\n",
       "      <td>18</td>\n",
       "      <td>73</td>\n",
       "      <td>345</td>\n",
       "      <td>71</td>\n",
       "      <td>7</td>\n",
       "      <td>13</td>\n",
       "      <td>1</td>\n",
       "      <td>8</td>\n",
       "      <td>1</td>\n",
       "      <td>46</td>\n",
       "      <td>M</td>\n",
       "      <td>Graduation</td>\n",
       "      <td>Together</td>\n",
       "      <td>OK nice!</td>\n",
       "    </tr>\n",
       "    <tr>\n",
       "      <th>7</th>\n",
       "      <td>1960</td>\n",
       "      <td>68602</td>\n",
       "      <td>5</td>\n",
       "      <td>44</td>\n",
       "      <td>41</td>\n",
       "      <td>84</td>\n",
       "      <td>1</td>\n",
       "      <td>12</td>\n",
       "      <td>2</td>\n",
       "      <td>0</td>\n",
       "      <td>1</td>\n",
       "      <td>37</td>\n",
       "      <td>M</td>\n",
       "      <td>Graduation</td>\n",
       "      <td>Together</td>\n",
       "      <td>Horrible</td>\n",
       "    </tr>\n",
       "    <tr>\n",
       "      <th>8</th>\n",
       "      <td>1940</td>\n",
       "      <td>109499</td>\n",
       "      <td>30</td>\n",
       "      <td>75</td>\n",
       "      <td>1401</td>\n",
       "      <td>38</td>\n",
       "      <td>9</td>\n",
       "      <td>35</td>\n",
       "      <td>9</td>\n",
       "      <td>9</td>\n",
       "      <td>0</td>\n",
       "      <td>17</td>\n",
       "      <td>M</td>\n",
       "      <td>Graduation</td>\n",
       "      <td>Divorced</td>\n",
       "      <td>OK nice!</td>\n",
       "    </tr>\n",
       "    <tr>\n",
       "      <th>9</th>\n",
       "      <td>1994</td>\n",
       "      <td>23846</td>\n",
       "      <td>8</td>\n",
       "      <td>153</td>\n",
       "      <td>19</td>\n",
       "      <td>18</td>\n",
       "      <td>55</td>\n",
       "      <td>17</td>\n",
       "      <td>10</td>\n",
       "      <td>1</td>\n",
       "      <td>1</td>\n",
       "      <td>39</td>\n",
       "      <td>F</td>\n",
       "      <td>1st Cycle</td>\n",
       "      <td>Together</td>\n",
       "      <td>Meh...</td>\n",
       "    </tr>\n",
       "  </tbody>\n",
       "</table>\n",
       "</div>"
      ],
      "text/plain": [
       "    age  income  frq  rcn   mnt  clothes  kitchen  small_appliances  toys  \\\n",
       "0  1946   90782   33   66  1402       37        5                44    10   \n",
       "1  1936  113023   32    6  1537       55        1                38     4   \n",
       "2  1990   28344   11   69    44       32       19                24     1   \n",
       "3  1955   93571   26   10   888       60       10                19     6   \n",
       "4  1955   91852   31   26  1138       59        5                28     4   \n",
       "5  1982   22386   14   65    56       47        2                48     2   \n",
       "6  1969   69485   18   73   345       71        7                13     1   \n",
       "7  1960   68602    5   44    41       84        1                12     2   \n",
       "8  1940  109499   30   75  1401       38        9                35     9   \n",
       "9  1994   23846    8  153    19       18       55                17    10   \n",
       "\n",
       "   house_keeping dependents  per_net_purchase gender   education    status  \\\n",
       "0              3          0                19      M  Graduation  Together   \n",
       "1              2          0                 9      F         PhD  Divorced   \n",
       "2             24          1                59      M  Graduation   Married   \n",
       "3              5          1                35      F      Master             \n",
       "4              4          1                34      F  Graduation  Together   \n",
       "5              1          1                67      M         PhD    Single   \n",
       "6              8          1                46      M  Graduation  Together   \n",
       "7              0          1                37      M  Graduation  Together   \n",
       "8              9          0                17      M  Graduation  Divorced   \n",
       "9              1          1                39      F   1st Cycle  Together   \n",
       "\n",
       "       description  \n",
       "0  Take my money!!  \n",
       "1  Take my money!!  \n",
       "2       Kind of OK  \n",
       "3         OK nice!  \n",
       "4  Take my money!!  \n",
       "5         OK nice!  \n",
       "6         OK nice!  \n",
       "7         Horrible  \n",
       "8         OK nice!  \n",
       "9           Meh...  "
      ]
     },
     "execution_count": 4,
     "metadata": {},
     "output_type": "execute_result"
    }
   ],
   "source": [
    "# dataset head\n",
    "df.head(10)"
   ]
  },
  {
   "cell_type": "code",
   "execution_count": 11,
   "metadata": {},
   "outputs": [
    {
     "data": {
      "text/plain": [
       "age                  int64\n",
       "income              object\n",
       "frq                  int64\n",
       "rcn                  int64\n",
       "mnt                  int64\n",
       "clothes              int64\n",
       "kitchen              int64\n",
       "small_appliances     int64\n",
       "toys                 int64\n",
       "house_keeping        int64\n",
       "dependents          object\n",
       "per_net_purchase     int64\n",
       "gender              object\n",
       "education           object\n",
       "status              object\n",
       "description         object\n",
       "dtype: object"
      ]
     },
     "execution_count": 11,
     "metadata": {},
     "output_type": "execute_result"
    }
   ],
   "source": [
    "# dataset data types\n",
    "df.dtypes"
   ]
  },
  {
   "cell_type": "code",
   "execution_count": 12,
   "metadata": {},
   "outputs": [
    {
     "data": {
      "text/plain": [
       "age                 0\n",
       "income              0\n",
       "frq                 0\n",
       "rcn                 0\n",
       "mnt                 0\n",
       "clothes             0\n",
       "kitchen             0\n",
       "small_appliances    0\n",
       "toys                0\n",
       "house_keeping       0\n",
       "dependents          0\n",
       "per_net_purchase    0\n",
       "gender              0\n",
       "education           0\n",
       "status              0\n",
       "description         0\n",
       "dtype: int64"
      ]
     },
     "execution_count": 12,
     "metadata": {},
     "output_type": "execute_result"
    }
   ],
   "source": [
    "# count of missing values\n",
    "df.isna().sum() #We have a enpty strings and thats why we don´t have nan - pandas miss understand"
   ]
  },
  {
   "cell_type": "code",
   "execution_count": 13,
   "metadata": {},
   "outputs": [
    {
     "data": {
      "text/plain": [
       "0"
      ]
     },
     "execution_count": 13,
     "metadata": {},
     "output_type": "execute_result"
    }
   ],
   "source": [
    "# duplicated observations\n",
    "df.duplicated().sum()"
   ]
  },
  {
   "cell_type": "code",
   "execution_count": 14,
   "metadata": {},
   "outputs": [
    {
     "data": {
      "text/html": [
       "<div>\n",
       "<style scoped>\n",
       "    .dataframe tbody tr th:only-of-type {\n",
       "        vertical-align: middle;\n",
       "    }\n",
       "\n",
       "    .dataframe tbody tr th {\n",
       "        vertical-align: top;\n",
       "    }\n",
       "\n",
       "    .dataframe thead th {\n",
       "        text-align: right;\n",
       "    }\n",
       "</style>\n",
       "<table border=\"1\" class=\"dataframe\">\n",
       "  <thead>\n",
       "    <tr style=\"text-align: right;\">\n",
       "      <th></th>\n",
       "      <th>count</th>\n",
       "      <th>unique</th>\n",
       "      <th>top</th>\n",
       "      <th>freq</th>\n",
       "      <th>mean</th>\n",
       "      <th>std</th>\n",
       "      <th>min</th>\n",
       "      <th>25%</th>\n",
       "      <th>50%</th>\n",
       "      <th>75%</th>\n",
       "      <th>max</th>\n",
       "    </tr>\n",
       "  </thead>\n",
       "  <tbody>\n",
       "    <tr>\n",
       "      <th>age</th>\n",
       "      <td>8998.0</td>\n",
       "      <td>NaN</td>\n",
       "      <td>NaN</td>\n",
       "      <td>NaN</td>\n",
       "      <td>1966.05968</td>\n",
       "      <td>17.296552</td>\n",
       "      <td>1936.0</td>\n",
       "      <td>1951.0</td>\n",
       "      <td>1966.0</td>\n",
       "      <td>1981.0</td>\n",
       "      <td>1996.0</td>\n",
       "    </tr>\n",
       "    <tr>\n",
       "      <th>income</th>\n",
       "      <td>8998</td>\n",
       "      <td>8525</td>\n",
       "      <td></td>\n",
       "      <td>46</td>\n",
       "      <td>NaN</td>\n",
       "      <td>NaN</td>\n",
       "      <td>NaN</td>\n",
       "      <td>NaN</td>\n",
       "      <td>NaN</td>\n",
       "      <td>NaN</td>\n",
       "      <td>NaN</td>\n",
       "    </tr>\n",
       "    <tr>\n",
       "      <th>frq</th>\n",
       "      <td>8998.0</td>\n",
       "      <td>NaN</td>\n",
       "      <td>NaN</td>\n",
       "      <td>NaN</td>\n",
       "      <td>19.848077</td>\n",
       "      <td>10.903435</td>\n",
       "      <td>3.0</td>\n",
       "      <td>10.0</td>\n",
       "      <td>17.0</td>\n",
       "      <td>28.0</td>\n",
       "      <td>59.0</td>\n",
       "    </tr>\n",
       "    <tr>\n",
       "      <th>rcn</th>\n",
       "      <td>8998.0</td>\n",
       "      <td>NaN</td>\n",
       "      <td>NaN</td>\n",
       "      <td>NaN</td>\n",
       "      <td>62.469771</td>\n",
       "      <td>69.761802</td>\n",
       "      <td>0.0</td>\n",
       "      <td>26.0</td>\n",
       "      <td>53.0</td>\n",
       "      <td>79.0</td>\n",
       "      <td>549.0</td>\n",
       "    </tr>\n",
       "    <tr>\n",
       "      <th>mnt</th>\n",
       "      <td>8998.0</td>\n",
       "      <td>NaN</td>\n",
       "      <td>NaN</td>\n",
       "      <td>NaN</td>\n",
       "      <td>622.162814</td>\n",
       "      <td>646.768205</td>\n",
       "      <td>6.0</td>\n",
       "      <td>63.0</td>\n",
       "      <td>383.0</td>\n",
       "      <td>1076.0</td>\n",
       "      <td>3052.0</td>\n",
       "    </tr>\n",
       "    <tr>\n",
       "      <th>clothes</th>\n",
       "      <td>8998.0</td>\n",
       "      <td>NaN</td>\n",
       "      <td>NaN</td>\n",
       "      <td>NaN</td>\n",
       "      <td>50.446655</td>\n",
       "      <td>23.422249</td>\n",
       "      <td>1.0</td>\n",
       "      <td>33.0</td>\n",
       "      <td>51.0</td>\n",
       "      <td>69.0</td>\n",
       "      <td>99.0</td>\n",
       "    </tr>\n",
       "    <tr>\n",
       "      <th>kitchen</th>\n",
       "      <td>8998.0</td>\n",
       "      <td>NaN</td>\n",
       "      <td>NaN</td>\n",
       "      <td>NaN</td>\n",
       "      <td>7.039675</td>\n",
       "      <td>7.848139</td>\n",
       "      <td>0.0</td>\n",
       "      <td>2.0</td>\n",
       "      <td>4.0</td>\n",
       "      <td>10.0</td>\n",
       "      <td>75.0</td>\n",
       "    </tr>\n",
       "    <tr>\n",
       "      <th>small_appliances</th>\n",
       "      <td>8998.0</td>\n",
       "      <td>NaN</td>\n",
       "      <td>NaN</td>\n",
       "      <td>NaN</td>\n",
       "      <td>28.524116</td>\n",
       "      <td>12.586437</td>\n",
       "      <td>1.0</td>\n",
       "      <td>19.0</td>\n",
       "      <td>28.0</td>\n",
       "      <td>37.0</td>\n",
       "      <td>74.0</td>\n",
       "    </tr>\n",
       "    <tr>\n",
       "      <th>toys</th>\n",
       "      <td>8998.0</td>\n",
       "      <td>NaN</td>\n",
       "      <td>NaN</td>\n",
       "      <td>NaN</td>\n",
       "      <td>7.036897</td>\n",
       "      <td>7.924422</td>\n",
       "      <td>0.0</td>\n",
       "      <td>2.0</td>\n",
       "      <td>4.0</td>\n",
       "      <td>10.0</td>\n",
       "      <td>62.0</td>\n",
       "    </tr>\n",
       "    <tr>\n",
       "      <th>house_keeping</th>\n",
       "      <td>8998.0</td>\n",
       "      <td>NaN</td>\n",
       "      <td>NaN</td>\n",
       "      <td>NaN</td>\n",
       "      <td>6.929984</td>\n",
       "      <td>7.882655</td>\n",
       "      <td>0.0</td>\n",
       "      <td>2.0</td>\n",
       "      <td>4.0</td>\n",
       "      <td>9.0</td>\n",
       "      <td>77.0</td>\n",
       "    </tr>\n",
       "    <tr>\n",
       "      <th>dependents</th>\n",
       "      <td>8998.0</td>\n",
       "      <td>3.0</td>\n",
       "      <td>1.0</td>\n",
       "      <td>6164.0</td>\n",
       "      <td>NaN</td>\n",
       "      <td>NaN</td>\n",
       "      <td>NaN</td>\n",
       "      <td>NaN</td>\n",
       "      <td>NaN</td>\n",
       "      <td>NaN</td>\n",
       "      <td>NaN</td>\n",
       "    </tr>\n",
       "    <tr>\n",
       "      <th>per_net_purchase</th>\n",
       "      <td>8998.0</td>\n",
       "      <td>NaN</td>\n",
       "      <td>NaN</td>\n",
       "      <td>NaN</td>\n",
       "      <td>42.428984</td>\n",
       "      <td>18.495742</td>\n",
       "      <td>4.0</td>\n",
       "      <td>28.0</td>\n",
       "      <td>45.0</td>\n",
       "      <td>57.0</td>\n",
       "      <td>88.0</td>\n",
       "    </tr>\n",
       "    <tr>\n",
       "      <th>gender</th>\n",
       "      <td>8998</td>\n",
       "      <td>2</td>\n",
       "      <td>M</td>\n",
       "      <td>5784</td>\n",
       "      <td>NaN</td>\n",
       "      <td>NaN</td>\n",
       "      <td>NaN</td>\n",
       "      <td>NaN</td>\n",
       "      <td>NaN</td>\n",
       "      <td>NaN</td>\n",
       "      <td>NaN</td>\n",
       "    </tr>\n",
       "    <tr>\n",
       "      <th>education</th>\n",
       "      <td>8998</td>\n",
       "      <td>7</td>\n",
       "      <td>Graduation</td>\n",
       "      <td>4429</td>\n",
       "      <td>NaN</td>\n",
       "      <td>NaN</td>\n",
       "      <td>NaN</td>\n",
       "      <td>NaN</td>\n",
       "      <td>NaN</td>\n",
       "      <td>NaN</td>\n",
       "      <td>NaN</td>\n",
       "    </tr>\n",
       "    <tr>\n",
       "      <th>status</th>\n",
       "      <td>8998</td>\n",
       "      <td>7</td>\n",
       "      <td>Married</td>\n",
       "      <td>3273</td>\n",
       "      <td>NaN</td>\n",
       "      <td>NaN</td>\n",
       "      <td>NaN</td>\n",
       "      <td>NaN</td>\n",
       "      <td>NaN</td>\n",
       "      <td>NaN</td>\n",
       "      <td>NaN</td>\n",
       "    </tr>\n",
       "    <tr>\n",
       "      <th>description</th>\n",
       "      <td>8998</td>\n",
       "      <td>5</td>\n",
       "      <td>OK nice!</td>\n",
       "      <td>3434</td>\n",
       "      <td>NaN</td>\n",
       "      <td>NaN</td>\n",
       "      <td>NaN</td>\n",
       "      <td>NaN</td>\n",
       "      <td>NaN</td>\n",
       "      <td>NaN</td>\n",
       "      <td>NaN</td>\n",
       "    </tr>\n",
       "  </tbody>\n",
       "</table>\n",
       "</div>"
      ],
      "text/plain": [
       "                   count unique         top    freq        mean         std  \\\n",
       "age               8998.0    NaN         NaN     NaN  1966.05968   17.296552   \n",
       "income              8998   8525                  46         NaN         NaN   \n",
       "frq               8998.0    NaN         NaN     NaN   19.848077   10.903435   \n",
       "rcn               8998.0    NaN         NaN     NaN   62.469771   69.761802   \n",
       "mnt               8998.0    NaN         NaN     NaN  622.162814  646.768205   \n",
       "clothes           8998.0    NaN         NaN     NaN   50.446655   23.422249   \n",
       "kitchen           8998.0    NaN         NaN     NaN    7.039675    7.848139   \n",
       "small_appliances  8998.0    NaN         NaN     NaN   28.524116   12.586437   \n",
       "toys              8998.0    NaN         NaN     NaN    7.036897    7.924422   \n",
       "house_keeping     8998.0    NaN         NaN     NaN    6.929984    7.882655   \n",
       "dependents        8998.0    3.0         1.0  6164.0         NaN         NaN   \n",
       "per_net_purchase  8998.0    NaN         NaN     NaN   42.428984   18.495742   \n",
       "gender              8998      2           M    5784         NaN         NaN   \n",
       "education           8998      7  Graduation    4429         NaN         NaN   \n",
       "status              8998      7     Married    3273         NaN         NaN   \n",
       "description         8998      5    OK nice!    3434         NaN         NaN   \n",
       "\n",
       "                     min     25%     50%     75%     max  \n",
       "age               1936.0  1951.0  1966.0  1981.0  1996.0  \n",
       "income               NaN     NaN     NaN     NaN     NaN  \n",
       "frq                  3.0    10.0    17.0    28.0    59.0  \n",
       "rcn                  0.0    26.0    53.0    79.0   549.0  \n",
       "mnt                  6.0    63.0   383.0  1076.0  3052.0  \n",
       "clothes              1.0    33.0    51.0    69.0    99.0  \n",
       "kitchen              0.0     2.0     4.0    10.0    75.0  \n",
       "small_appliances     1.0    19.0    28.0    37.0    74.0  \n",
       "toys                 0.0     2.0     4.0    10.0    62.0  \n",
       "house_keeping        0.0     2.0     4.0     9.0    77.0  \n",
       "dependents           NaN     NaN     NaN     NaN     NaN  \n",
       "per_net_purchase     4.0    28.0    45.0    57.0    88.0  \n",
       "gender               NaN     NaN     NaN     NaN     NaN  \n",
       "education            NaN     NaN     NaN     NaN     NaN  \n",
       "status               NaN     NaN     NaN     NaN     NaN  \n",
       "description          NaN     NaN     NaN     NaN     NaN  "
      ]
     },
     "execution_count": 14,
     "metadata": {},
     "output_type": "execute_result"
    }
   ],
   "source": [
    "# descriptive statistics\n",
    "df.describe(include=\"all\").T  # try with all and without all"
   ]
  },
  {
   "cell_type": "markdown",
   "metadata": {},
   "source": [
    "## Problems:\n",
    "- Duplicates?\n",
    "- Data types?\n",
    "- Missing values?\n",
    "- Strange values?\n",
    "- Descriptive statistics?\n",
    "\n",
    "### Take a closer look and point out possible problems:\n",
    "\n",
    "(hint: a missing values in pandas is represented with a NaN value)"
   ]
  },
  {
   "cell_type": "code",
   "execution_count": 19,
   "metadata": {},
   "outputs": [
    {
     "data": {
      "text/plain": [
       "<AxesSubplot:ylabel='Frequency'>"
      ]
     },
     "execution_count": 19,
     "metadata": {},
     "output_type": "execute_result"
    },
    {
     "data": {
      "image/png": "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\n",
      "text/plain": [
       "<Figure size 432x288 with 1 Axes>"
      ]
     },
     "metadata": {
      "needs_background": "light"
     },
     "output_type": "display_data"
    }
   ],
   "source": [
    "# Use this cell to further explore the dataset\n",
    "df['age'] #return just the colum age\n",
    "df['age'].mean() #mean of colum\n",
    "df['age'].plot.hist() #histogram distribution of the age in the datas set df\n",
    "\n"
   ]
  },
  {
   "cell_type": "code",
   "execution_count": 20,
   "metadata": {},
   "outputs": [
    {
     "data": {
      "text/plain": [
       "age                   0\n",
       "income               46\n",
       "frq                   0\n",
       "rcn                   0\n",
       "mnt                   0\n",
       "clothes               0\n",
       "kitchen               0\n",
       "small_appliances      0\n",
       "toys                  0\n",
       "house_keeping         0\n",
       "dependents          282\n",
       "per_net_purchase      0\n",
       "gender                0\n",
       "education            47\n",
       "status              177\n",
       "description           0\n",
       "dtype: int64"
      ]
     },
     "execution_count": 20,
     "metadata": {},
     "output_type": "execute_result"
    }
   ],
   "source": [
    "# replace \"\" by nans\n",
    "df.replace(\"\", np.nan, inplace=True) #df.df.replace(\"\",np.nan) this 2 do the same thing\n",
    "\n",
    "# count of missing values, I only can do this because a run the other code\n",
    "df.isna().sum() "
   ]
  },
  {
   "cell_type": "code",
   "execution_count": 23,
   "metadata": {},
   "outputs": [],
   "source": [
    "# fix wrong dtypes\n",
    "df.dependents = df.dependents.astype(\"boolean\")  # converting to \"boolean\" over \"bool\" allows preservation of NaNs"
   ]
  },
  {
   "cell_type": "code",
   "execution_count": 21,
   "metadata": {},
   "outputs": [
    {
     "data": {
      "text/plain": [
       "age                   int64\n",
       "income              float64\n",
       "frq                   int64\n",
       "rcn                   int64\n",
       "mnt                   int64\n",
       "clothes               int64\n",
       "kitchen               int64\n",
       "small_appliances      int64\n",
       "toys                  int64\n",
       "house_keeping         int64\n",
       "dependents          float64\n",
       "per_net_purchase      int64\n",
       "gender               object\n",
       "education            object\n",
       "status               object\n",
       "description          object\n",
       "dtype: object"
      ]
     },
     "execution_count": 21,
     "metadata": {},
     "output_type": "execute_result"
    }
   ],
   "source": [
    "# check dataset data types again \n",
    "df.dtypes\n",
    "#income and dependets types already change, but the income variable should be a int and not a float\n",
    "#dependets should be a boolean "
   ]
  },
  {
   "cell_type": "code",
   "execution_count": 32,
   "metadata": {},
   "outputs": [],
   "source": [
<<<<<<< Updated upstream
    "# fix wrong dtypes\n",
    "# CODE HERE"
=======
    "#fix wronge \n",
    "df['dependents'] = df['dependents'].astype('boolean')"
   ]
  },
  {
   "cell_type": "code",
   "execution_count": 34,
   "metadata": {},
   "outputs": [
    {
     "data": {
      "text/plain": [
       "<AxesSubplot:ylabel='Frequency'>"
      ]
     },
     "execution_count": 34,
     "metadata": {},
     "output_type": "execute_result"
    },
    {
     "data": {
      "image/png": "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\n",
      "text/plain": [
       "<Figure size 432x288 with 1 Axes>"
      ]
     },
     "metadata": {
      "needs_background": "light"
     },
     "output_type": "display_data"
    }
>>>>>>> Stashed changes
   ],
   "source": [
    "df.income.plot.hist()"
   ]
  },
  {
   "cell_type": "code",
   "execution_count": 33,
   "metadata": {},
   "outputs": [
    {
     "data": {
      "text/html": [
       "<div>\n",
       "<style scoped>\n",
       "    .dataframe tbody tr th:only-of-type {\n",
       "        vertical-align: middle;\n",
       "    }\n",
       "\n",
       "    .dataframe tbody tr th {\n",
       "        vertical-align: top;\n",
       "    }\n",
       "\n",
       "    .dataframe thead th {\n",
       "        text-align: right;\n",
       "    }\n",
       "</style>\n",
       "<table border=\"1\" class=\"dataframe\">\n",
       "  <thead>\n",
       "    <tr style=\"text-align: right;\">\n",
       "      <th></th>\n",
       "      <th>count</th>\n",
       "      <th>unique</th>\n",
       "      <th>top</th>\n",
       "      <th>freq</th>\n",
       "      <th>mean</th>\n",
       "      <th>std</th>\n",
       "      <th>min</th>\n",
       "      <th>25%</th>\n",
       "      <th>50%</th>\n",
       "      <th>75%</th>\n",
       "      <th>max</th>\n",
       "    </tr>\n",
       "  </thead>\n",
       "  <tbody>\n",
       "    <tr>\n",
       "      <th>age</th>\n",
       "      <td>8998.0</td>\n",
       "      <td>NaN</td>\n",
       "      <td>NaN</td>\n",
       "      <td>NaN</td>\n",
       "      <td>1966.05968</td>\n",
       "      <td>17.296552</td>\n",
       "      <td>1936.0</td>\n",
       "      <td>1951.0</td>\n",
       "      <td>1966.0</td>\n",
       "      <td>1981.0</td>\n",
       "      <td>1996.0</td>\n",
       "    </tr>\n",
       "    <tr>\n",
       "      <th>income</th>\n",
       "      <td>8952.0</td>\n",
       "      <td>NaN</td>\n",
       "      <td>NaN</td>\n",
       "      <td>NaN</td>\n",
       "      <td>69963.550827</td>\n",
       "      <td>27591.556226</td>\n",
       "      <td>10000.0</td>\n",
       "      <td>47741.0</td>\n",
       "      <td>70030.5</td>\n",
       "      <td>92218.0</td>\n",
       "      <td>140628.0</td>\n",
       "    </tr>\n",
       "    <tr>\n",
       "      <th>frq</th>\n",
       "      <td>8998.0</td>\n",
       "      <td>NaN</td>\n",
       "      <td>NaN</td>\n",
       "      <td>NaN</td>\n",
       "      <td>19.848077</td>\n",
       "      <td>10.903435</td>\n",
       "      <td>3.0</td>\n",
       "      <td>10.0</td>\n",
       "      <td>17.0</td>\n",
       "      <td>28.0</td>\n",
       "      <td>59.0</td>\n",
       "    </tr>\n",
       "    <tr>\n",
       "      <th>rcn</th>\n",
       "      <td>8998.0</td>\n",
       "      <td>NaN</td>\n",
       "      <td>NaN</td>\n",
       "      <td>NaN</td>\n",
       "      <td>62.469771</td>\n",
       "      <td>69.761802</td>\n",
       "      <td>0.0</td>\n",
       "      <td>26.0</td>\n",
       "      <td>53.0</td>\n",
       "      <td>79.0</td>\n",
       "      <td>549.0</td>\n",
       "    </tr>\n",
       "    <tr>\n",
       "      <th>mnt</th>\n",
       "      <td>8998.0</td>\n",
       "      <td>NaN</td>\n",
       "      <td>NaN</td>\n",
       "      <td>NaN</td>\n",
       "      <td>622.162814</td>\n",
       "      <td>646.768205</td>\n",
       "      <td>6.0</td>\n",
       "      <td>63.0</td>\n",
       "      <td>383.0</td>\n",
       "      <td>1076.0</td>\n",
       "      <td>3052.0</td>\n",
       "    </tr>\n",
       "    <tr>\n",
       "      <th>clothes</th>\n",
       "      <td>8998.0</td>\n",
       "      <td>NaN</td>\n",
       "      <td>NaN</td>\n",
       "      <td>NaN</td>\n",
       "      <td>50.446655</td>\n",
       "      <td>23.422249</td>\n",
       "      <td>1.0</td>\n",
       "      <td>33.0</td>\n",
       "      <td>51.0</td>\n",
       "      <td>69.0</td>\n",
       "      <td>99.0</td>\n",
       "    </tr>\n",
       "    <tr>\n",
       "      <th>kitchen</th>\n",
       "      <td>8998.0</td>\n",
       "      <td>NaN</td>\n",
       "      <td>NaN</td>\n",
       "      <td>NaN</td>\n",
       "      <td>7.039675</td>\n",
       "      <td>7.848139</td>\n",
       "      <td>0.0</td>\n",
       "      <td>2.0</td>\n",
       "      <td>4.0</td>\n",
       "      <td>10.0</td>\n",
       "      <td>75.0</td>\n",
       "    </tr>\n",
       "    <tr>\n",
       "      <th>small_appliances</th>\n",
       "      <td>8998.0</td>\n",
       "      <td>NaN</td>\n",
       "      <td>NaN</td>\n",
       "      <td>NaN</td>\n",
       "      <td>28.524116</td>\n",
       "      <td>12.586437</td>\n",
       "      <td>1.0</td>\n",
       "      <td>19.0</td>\n",
       "      <td>28.0</td>\n",
       "      <td>37.0</td>\n",
       "      <td>74.0</td>\n",
       "    </tr>\n",
       "    <tr>\n",
       "      <th>toys</th>\n",
       "      <td>8998.0</td>\n",
       "      <td>NaN</td>\n",
       "      <td>NaN</td>\n",
       "      <td>NaN</td>\n",
       "      <td>7.036897</td>\n",
       "      <td>7.924422</td>\n",
       "      <td>0.0</td>\n",
       "      <td>2.0</td>\n",
       "      <td>4.0</td>\n",
       "      <td>10.0</td>\n",
       "      <td>62.0</td>\n",
       "    </tr>\n",
       "    <tr>\n",
       "      <th>house_keeping</th>\n",
       "      <td>8998.0</td>\n",
       "      <td>NaN</td>\n",
       "      <td>NaN</td>\n",
       "      <td>NaN</td>\n",
       "      <td>6.929984</td>\n",
       "      <td>7.882655</td>\n",
       "      <td>0.0</td>\n",
       "      <td>2.0</td>\n",
       "      <td>4.0</td>\n",
       "      <td>9.0</td>\n",
       "      <td>77.0</td>\n",
       "    </tr>\n",
       "    <tr>\n",
       "      <th>dependents</th>\n",
       "      <td>8716</td>\n",
       "      <td>2</td>\n",
       "      <td>True</td>\n",
       "      <td>6164</td>\n",
       "      <td>NaN</td>\n",
       "      <td>NaN</td>\n",
       "      <td>NaN</td>\n",
       "      <td>NaN</td>\n",
       "      <td>NaN</td>\n",
       "      <td>NaN</td>\n",
       "      <td>NaN</td>\n",
       "    </tr>\n",
       "    <tr>\n",
       "      <th>per_net_purchase</th>\n",
       "      <td>8998.0</td>\n",
       "      <td>NaN</td>\n",
       "      <td>NaN</td>\n",
       "      <td>NaN</td>\n",
       "      <td>42.428984</td>\n",
       "      <td>18.495742</td>\n",
       "      <td>4.0</td>\n",
       "      <td>28.0</td>\n",
       "      <td>45.0</td>\n",
       "      <td>57.0</td>\n",
       "      <td>88.0</td>\n",
       "    </tr>\n",
       "    <tr>\n",
       "      <th>gender</th>\n",
       "      <td>8998</td>\n",
       "      <td>2</td>\n",
       "      <td>M</td>\n",
       "      <td>5784</td>\n",
       "      <td>NaN</td>\n",
       "      <td>NaN</td>\n",
       "      <td>NaN</td>\n",
       "      <td>NaN</td>\n",
       "      <td>NaN</td>\n",
       "      <td>NaN</td>\n",
       "      <td>NaN</td>\n",
       "    </tr>\n",
       "    <tr>\n",
       "      <th>education</th>\n",
       "      <td>8951</td>\n",
       "      <td>6</td>\n",
       "      <td>Graduation</td>\n",
       "      <td>4429</td>\n",
       "      <td>NaN</td>\n",
       "      <td>NaN</td>\n",
       "      <td>NaN</td>\n",
       "      <td>NaN</td>\n",
       "      <td>NaN</td>\n",
       "      <td>NaN</td>\n",
       "      <td>NaN</td>\n",
       "    </tr>\n",
       "    <tr>\n",
       "      <th>status</th>\n",
       "      <td>8821</td>\n",
       "      <td>6</td>\n",
       "      <td>Married</td>\n",
       "      <td>3273</td>\n",
       "      <td>NaN</td>\n",
       "      <td>NaN</td>\n",
       "      <td>NaN</td>\n",
       "      <td>NaN</td>\n",
       "      <td>NaN</td>\n",
       "      <td>NaN</td>\n",
       "      <td>NaN</td>\n",
       "    </tr>\n",
       "    <tr>\n",
       "      <th>description</th>\n",
       "      <td>8998</td>\n",
       "      <td>5</td>\n",
       "      <td>OK nice!</td>\n",
       "      <td>3434</td>\n",
       "      <td>NaN</td>\n",
       "      <td>NaN</td>\n",
       "      <td>NaN</td>\n",
       "      <td>NaN</td>\n",
       "      <td>NaN</td>\n",
       "      <td>NaN</td>\n",
       "      <td>NaN</td>\n",
       "    </tr>\n",
       "  </tbody>\n",
       "</table>\n",
       "</div>"
      ],
      "text/plain": [
       "                   count unique         top  freq          mean           std  \\\n",
       "age               8998.0    NaN         NaN   NaN    1966.05968     17.296552   \n",
       "income            8952.0    NaN         NaN   NaN  69963.550827  27591.556226   \n",
       "frq               8998.0    NaN         NaN   NaN     19.848077     10.903435   \n",
       "rcn               8998.0    NaN         NaN   NaN     62.469771     69.761802   \n",
       "mnt               8998.0    NaN         NaN   NaN    622.162814    646.768205   \n",
       "clothes           8998.0    NaN         NaN   NaN     50.446655     23.422249   \n",
       "kitchen           8998.0    NaN         NaN   NaN      7.039675      7.848139   \n",
       "small_appliances  8998.0    NaN         NaN   NaN     28.524116     12.586437   \n",
       "toys              8998.0    NaN         NaN   NaN      7.036897      7.924422   \n",
       "house_keeping     8998.0    NaN         NaN   NaN      6.929984      7.882655   \n",
       "dependents          8716      2        True  6164           NaN           NaN   \n",
       "per_net_purchase  8998.0    NaN         NaN   NaN     42.428984     18.495742   \n",
       "gender              8998      2           M  5784           NaN           NaN   \n",
       "education           8951      6  Graduation  4429           NaN           NaN   \n",
       "status              8821      6     Married  3273           NaN           NaN   \n",
       "description         8998      5    OK nice!  3434           NaN           NaN   \n",
       "\n",
       "                      min      25%      50%      75%       max  \n",
       "age                1936.0   1951.0   1966.0   1981.0    1996.0  \n",
       "income            10000.0  47741.0  70030.5  92218.0  140628.0  \n",
       "frq                   3.0     10.0     17.0     28.0      59.0  \n",
       "rcn                   0.0     26.0     53.0     79.0     549.0  \n",
       "mnt                   6.0     63.0    383.0   1076.0    3052.0  \n",
       "clothes               1.0     33.0     51.0     69.0      99.0  \n",
       "kitchen               0.0      2.0      4.0     10.0      75.0  \n",
       "small_appliances      1.0     19.0     28.0     37.0      74.0  \n",
       "toys                  0.0      2.0      4.0     10.0      62.0  \n",
       "house_keeping         0.0      2.0      4.0      9.0      77.0  \n",
       "dependents            NaN      NaN      NaN      NaN       NaN  \n",
       "per_net_purchase      4.0     28.0     45.0     57.0      88.0  \n",
       "gender                NaN      NaN      NaN      NaN       NaN  \n",
       "education             NaN      NaN      NaN      NaN       NaN  \n",
       "status                NaN      NaN      NaN      NaN       NaN  \n",
       "description           NaN      NaN      NaN      NaN       NaN  "
      ]
     },
     "execution_count": 33,
     "metadata": {},
     "output_type": "execute_result"
    }
   ],
   "source": [
    "# check descriptive statistics again\n",
    "df.describe(include=\"all\").T"
   ]
  },
  {
   "cell_type": "markdown",
   "metadata": {},
   "source": [
    "# Visual Exploration\n",
    "\n",
    "Matplotlib tutorials: https://matplotlib.org/3.3.1/tutorials/index.html\n",
    "\n",
    "Matplotlib gallery: https://matplotlib.org/3.3.1/tutorials/introductory/sample_plots.html#sphx-glr-tutorials-introductory-sample-plots-py\n",
    "\n",
    "Seaborn tutorials: https://seaborn.pydata.org/tutorial.html\n",
    "\n",
    "\n",
    "Seaborn gallery: https://seaborn.pydata.org/examples/index.html\n",
    "\n",
    "**More examples for visualizing distributions:**\n",
    "- http://seaborn.pydata.org/tutorial/distributions.html"
   ]
  },
  {
   "cell_type": "code",
   "execution_count": 9,
   "metadata": {},
   "outputs": [],
   "source": [
    "#Define metric and non-metric features. Why?\n",
    "non_metric_features = [\"education\", \"status\", \"gender\", \"dependents\", \"description\"] #non metrical features\n",
    "metric_features = df.columns.drop(non_metric_features).to_list() #the ones that i did not identify as non metrical are metrical\n"
   ]
  },
  {
   "cell_type": "markdown",
   "metadata": {},
   "source": [
    "## Pyplot-style vs Object-Oriented-style\n",
    "- Explicitly create figures and axes, and call methods on them (the \"object-oriented (OO) style\").\n",
    "- Rely on pyplot to automatically create and manage the figures and axes, and use pyplot functions for plotting."
   ]
  },
  {
   "cell_type": "markdown",
   "metadata": {},
   "source": [
    "## Numeric Variables' Univariate Distribution"
   ]
  },
  {
   "cell_type": "code",
   "execution_count": 10,
   "metadata": {},
   "outputs": [
    {
     "data": {
      "image/png": "iVBORw0KGgoAAAANSUhEUgAAAv4AAAIfCAYAAAAIfdieAAAAOXRFWHRTb2Z0d2FyZQBNYXRwbG90bGliIHZlcnNpb24zLjMuNCwgaHR0cHM6Ly9tYXRwbG90bGliLm9yZy8QVMy6AAAACXBIWXMAABYlAAAWJQFJUiTwAAA/eElEQVR4nO3de1jUZf7/8ReIioCKqJjYyQNQ6mKKom6Rfl3L1tbVWoVWZc3Vy93arDVdLMWvoWXZaUlzf+tmZlqeYC1zpXA184AnwmOpGOCp8gCiIAriyPz+8JrJceCrEMwg9/NxXV3U577nM5/bt0yvuef+3ONhtVqtAgAAAFCrebr7AgAAAABUP4I/AAAAYACCPwAAAGAAgj8AAABgAII/AAAAYACCPwAAAGAAgj8AAABgAII/AAAAYACCPwAAAGAAgj8AAABgAII/AAAAYACCPwAAAGAAgj8AAABgAII/AAAAYAAvd19AbVJaapXFcsXdl1Gj1Kt39a9YSYnFzVeCa1GXmoea1EzUpeahJjUTdXEdL6868vT0qNxjq/hajGaxXFF+fpG7L6NGad68oSTx51LDUJeah5rUTNSl5qEmNRN1cZ3GjRvY32hVFEt9AAAAAAMQ/AEAAAADEPwBAAAAAxD8AQAAAANUS/BfsWKFQkND9fXXX5fZfvjwYT3//PPq1auXOnXqpAEDBuijjz5SaWlpmf0LCgr0xhtvqF+/fgoLC1OfPn302muvqbCwsMz+V65c0dKlSzVo0CB17txZPXv21Lhx43T48OEqGyMAAABwK6ny4L9r1y5Nnz693PaDBw9q8ODBWr16tYKCghQZGamTJ09q+vTpio2NdepfWFio4cOHa968efLw8FDv3r3l4eGhDz74QNHR0Tp//rzTY+Li4jR16lSdPHlSDzzwgFq1aqXk5GQ9/vjj2r9/f5WOFwAAALgVVGnwX7NmjUaNGqWLFy+W2W61WhUbG6vCwkK9/vrrWrJkid59912lpKQoNDRUq1atUkpKisNjEhISlJGRoaioKCUnJ2vWrFlKSUnRwIEDlZmZqYSEBKdrWLFihTp06KD//ve/mj17tpKSkhQfH6+LFy/qhRdekNVqrcphAwAAADVelQT/kydPKjY2VmPHjlVpaamaNWtWZr/U1FRlZGQoIiJCAwcOtB8PCAjQ1KlTJUmLFi2yHy8oKFBiYqL8/Pw0ceJEeXpevVwvLy9NnTpVjRs3VlJSksMbjfnz50uSXnjhBTVs2NB+/IknntAvf/lLZWRkaPv27VUxbAAAAOCWUSXBPyEhQStXrlTHjh21bNkytWnTpsx+mzZtkiT17dvXqS08PFxNmzZVenq6fe1+WlqaiouL1aNHD/n5+Tn09/X1Vc+ePVVcXKy0tDRJV98o7N69W/7+/uratavTc9ied+PGjZUfLAAAAHALqpLg36ZNG82cOVOJiYkKDQ0tt19mZqYkKSQkpMz21q1bq7S0VFlZWQ79g4ODy31eScrIyJAkZWVlyWq1qm3btvZPB8rqf+jQoZsZFgAAAFBrVO77fq8zZsyYm+p3+vRpSVLz5s3LbLcdz83NlSTl5OTcVP8zZ87cVP/AwECH/gAAAIApqiT436yioiJJkre3d5nttuO2Nfu2nw0aNKiS/vXr13foV9Xq1fNS8+YNb9zRQPy51EzUpeahJjUTdal5qEnNRF1qNpd+gZdt+Y2Hh0eZ7bbddmw/q7s/AAAAYAqXzvj7+PhIkoqLi8tsv3TpkkO/m+1vm+G/Uf+SkhKH/lWtpMSi/Pyiajn3rcr2zj8nx/n7FuA+1KXmoSY1E3WpeahJzURdXKdx4waqV69yEd6lM/62Nfa2NfzXu36NflX3v9E9BgAAAEBt5dLgb9udx7Zbz7WsVquys7NVp04dtW3b9ob9Jdl3/7HtJNSuXTt5enraj18vOztbUvm7CgEAAAC1lUuX+kRGRmrevHlat26dhg0b5tC2c+dO5eXlKSIiwr5nf7du3eTt7a2tW7fq4sWL9qU8knThwgVt3bpVPj4+Cg8PlyT7v6elpWnnzp3q0qWLw3OsXbtWktSrV6/qHCYAAICRTLy591Za3uTSGf+IiAgFBwcrNTVVy5cvtx/Py8tTfHy8JGnkyJH24z4+Pho0aJDy8/MVHx8vi8UiSbJYLJo2bZoKCgoUHR3t8OVeQ4cOlSTFx8crLy/PfnzZsmXasmWLOnTooO7du1frOAEAAICaxqUz/p6enpoxY4ZGjBihKVOmKCkpSYGBgdqxY4fy8/MVFRWlPn36ODxm3Lhx2r59uz799FOlp6erffv22r9/v44fP6727dtr7NixDv379++vNWvW6PPPP9cjjzyiiIgInTp1Snv37lWjRo00c+ZMVw4ZAADAGAPGr3T3JbjMqrcGuvsSKsylM/6SFBYWpsTERPXr109Hjx5VamqqgoKCFB8fr5deesmpv7+/v5YuXaqYmBhZLBatX79enp6eGj16tBYuXChfX1+nx7z55pt68cUXFRgYqA0bNujUqVN69NFHlZiYWO63AAMAAAC1mYeVTe2rDNt5OmN7r5qJutQ81KRmoi41DzWpmWx1MXHG39V/F2+Z7TwBAAAAuAfBHwAAADAAwR8AAAAwAMEfAAAAMADBHwAAADAAwR8AAAAwAMEfAAAAMADBHwAAADAAwR8AAAAwAMEfAAAAMADBHwAAADAAwR8AAAAwAMEfAAAAMADBHwAAADAAwR8AAAAwAMEfAAAAMADBHwAAADAAwR8AAAAwgJe7LwDAjTVv3vCWOm9Vyck57+5LAACg1mDGHwAAADAAM/7ALWTA+JXuvgSXWPXWQHdfAgAAtQ4z/gAAAIABCP4AAACAAQj+AAAAgAEI/gAAAIABCP4AAACAAdjVBwAAVBtTv4dE4rtIUPMQ/AGgBrkVwkxVIxwBgGsQ/AEAQLUz5XtIJL6LBDUXwR9AjWXi7DfhqHYz8e80gJqDm3sBAAAAAzDjD6DGYvYbtRV/twG4AzP+AAAAgAEI/gAAAIABCP4AAACAAVjjj1sOu2IAAABUHDP+AAAAgAGY8ccti10xAAAAbh7BHwAAoBqwNBU1DUt9AAAAAAMw4w8AAFANWJKKmoYZfwAAAMAABH8AAADAACz1AQC41a1wA+StcI0AcCPM+AMAAAAGYMYfAOBW3AAJAK7BjD8AAABgAII/AAAAYACCPwAAAGAAgj8AAABgAII/AAAAYACCPwAAAGAAgj8AAABgAII/AAAAYACCPwAAAGAAgj8AAABgAII/AAAAYACCPwAAAGAAgj8AAABgAII/AAAAYACCPwAAAGAAgj8AAABgAII/AAAAYACCPwAAAGAAgj8AAABgAII/AAAAYACCPwAAAGAAL3c++cqVK/Xxxx/r0KFDKi0tVevWrfX4449r+PDhqlOnjkPfw4cPa/bs2UpPT9e5c+d05513Kjo6WkOHDpWnp/P7l4KCAs2dO1dr167ViRMn1KxZMz388MN65pln5Ofn56ohAgAAADWC22b8X3/9dcXGxurAgQPq0qWLunfvrmPHjmnGjBl69tlnZbVa7X0PHjyowYMHa/Xq1QoKClJkZKROnjyp6dOnKzY21unchYWFGj58uObNmycPDw/17t1bHh4e+uCDDxQdHa3z58+7cqgAAACA27llxj8jI0Pz589XQECAFi9erNatW0uSTp06pd///vdau3at1qxZo379+slqtSo2NlaFhYV6/fXXNXDgQElSXl6ennzySa1atUoPPfSQ+vXrZz9/QkKCMjIyFBUVpfj4eHl6espisWjSpElauXKlEhISNGXKFHcMHQAAAHALt8z4b9myRVarVb/97W/toV+SWrRooaFDh0qS0tLSJEmpqanKyMhQRESEPfRLUkBAgKZOnSpJWrRokf14QUGBEhMT5efnp4kTJ9qXAXl5eWnq1Klq3LixkpKSdPHixWofJwAAAFBTuCX4e3h4SLo6w3+9s2fPSpL8/f0lSZs2bZIk9e3b16lveHi4mjZtqvT0dBUWFkq6+oahuLhYPXr0cFrL7+vrq549e6q4uNj+xgIAAAAwgVuCf2RkpDw8PPTFF1/oX//6l/Ly8lRQUKCkpCQtXLhQjRs31u9+9ztJUmZmpiQpJCSkzHO1bt1apaWlysrKcugfHBxcZv82bdpIurrcCAAAADCFW4J/27ZtNX36dHl7e+utt95Sz5491a1bN02ePFkdOnTQsmXL1LJlS0nS6dOnJUnNmzcv81y247m5uZKknJycm+p/5syZqhsQAAAAUMO5bTvPLl26qGfPntq2bZvCwsLk6empPXv2aN++fVq8eLEmTZokDw8PFRUVSZK8vb3LPI/tuG3Nvu1ngwYNbqp/VapXz0vNmzes8vPWBvy5AACA2uhWyjhuCf67d+/WH//4R7Vq1UqrVq3S7bffLunqmv9nnnlGCxculJ+fn5577jn7zbm2+wKuZ9v20/azov0BAAAAE7gl+M+YMUMXLlzQK6+8Yg/90tVdfd5++2098sgjWrBggcaMGSMfHx9JUnFxcZnnunTpkiTZ+91s//I+Efg5Skosys8vqvLz/l9upXeZAAAAtU1Ojmu/H6px4waqV69yEd7la/yLi4u1d+9eNWzYUGFhYU7td9xxh1q3bq2LFy/q6NGjCgwMlPTTGv7rXb+mv6L9AQAAABO4fMb//PnzslqtqlOnTrl9bG2XL19WcHCwNmzYoMzMTHXv3t2hn9VqVXZ2turUqaO2bdtK+mk3H9vuPtez7f4TGhr6s8dSkwwYv9Ldl+Ayq94aeONOAAAAcODyGf+mTZvK399f586d0969e53aT506paysLNWtW1dt2rRRZGSkJGndunVOfXfu3Km8vDyFh4fb9+zv1q2bvL29tXXrVqcbeC9cuKCtW7fKx8dH4eHh1TA6AAAAoGZyefD39PTU4MGDJUmTJ092+BKvvLw8TZgwQZcvX9bvfvc7+fr6KiIiQsHBwUpNTdXy5csd+sbHx0uSRo4caT/u4+OjQYMGKT8/X/Hx8bJYLJIki8WiadOmqaCgQNHR0U5f7gUAAADUZm65uffZZ5/V3r17tWPHDj300EPq1q2bPDw8tGfPHhUUFOi+++7TxIkTJV19ozBjxgyNGDFCU6ZMUVJSkgIDA7Vjxw7l5+crKipKffr0cTj/uHHjtH37dn366adKT09X+/bttX//fh0/flzt27fX2LFj3TFsAAAAwG3c8gVe9evX1/z58zVp0iS1a9dO6enp2rFjh1q2bKnx48dr0aJF9t15JCksLEyJiYnq16+fjh49qtTUVAUFBSk+Pl4vvfSS0/n9/f21dOlSxcTEyGKxaP369fL09NTo0aO1cOFC+fr6unC0AAAAgPu57Qu86tatqxEjRmjEiBE31b9du3aaNWvWTZ/f399fcXFxiouLq+wlAgAAALWGW2b8AQAAALgWwR8AAAAwAMEfAAAAMADBHwAAADAAwR8AAAAwAMEfAAAAMADBHwAAADAAwR8AAAAwAMEfAAAAMADBHwAAADAAwR8AAAAwAMEfAAAAMADBHwAAADAAwR8AAAAwAMEfAAAAMADBHwAAADAAwR8AAAAwAMEfAAAAMADBHwAAADAAwR8AAAAwAMEfAAAAMADBHwAAADAAwR8AAAAwAMEfAAAAMADBHwAAADAAwR8AAAAwAMEfAAAAMADBHwAAADAAwR8AAAAwAMEfAAAAMADBHwAAADAAwR8AAAAwAMEfAAAAMADBHwAAADAAwR8AAAAwAMEfAAAAMADBHwAAADAAwR8AAAAwAMEfAAAAMADBHwAAADAAwR8AAAAwAMEfAAAAMADBHwAAADAAwR8AAAAwAMEfAAAAMADBHwAAADAAwR8AAAAwAMEfAAAAMADBHwAAADAAwR8AAAAwAMEfAAAAMADBHwAAADAAwR8AAAAwAMEfAAAAMADBHwAAADAAwR8AAAAwAMEfAAAAMADBHwAAADAAwR8AAAAwAMEfAAAAMADBHwAAADAAwR8AAAAwAMEfAAAAMADBHwAAADAAwR8AAAAwAMEfAAAAMADBHwAAADCAlzuf/IcfftCcOXO0efNm5eXlqUmTJurdu7eeffZZNW/e3KHv4cOHNXv2bKWnp+vcuXO68847FR0draFDh8rT0/n9S0FBgebOnau1a9fqxIkTatasmR5++GE988wz8vPzc9UQAQAAgBrBbTP++/bt08CBA/Xvf/9bjRs3Vq9eveTp6anly5dr6NChys/Pt/c9ePCgBg8erNWrVysoKEiRkZE6efKkpk+frtjYWKdzFxYWavjw4Zo3b548PDzUu3dveXh46IMPPlB0dLTOnz/vyqECAAAAbueW4F9SUqIJEybo/PnziouL06pVqzRnzhytWbNG/fr107FjxzR79mxJktVqVWxsrAoLC/X6669ryZIlevfdd5WSkqLQ0FCtWrVKKSkpDudPSEhQRkaGoqKilJycrFmzZiklJUUDBw5UZmamEhIS3DBqAAAAwH3cEvyTk5N15MgRDRgwQDExMfbj9evX14svvqhmzZrp8OHDkqTU1FRlZGQoIiJCAwcOtPcNCAjQ1KlTJUmLFi2yHy8oKFBiYqL8/Pw0ceJE+zIgLy8vTZ06VY0bN1ZSUpIuXrzoiqECAAAANYJbgv+aNWskSSNHjnRqa9mypVJTU/X+++9LkjZt2iRJ6tu3r1Pf8PBwNW3aVOnp6SosLJQkpaWlqbi4WD169HBay+/r66uePXuquLhYaWlpVTomAAAAoCZzy829+/fvV926dXXPPffoxIkTWrVqlY4dOyZ/f389/PDDCgsLs/fNzMyUJIWEhJR5rtatW+vMmTPKyspSp06d7P2Dg4PL7N+mTRtJUkZGhnr16lWVwwIAAABqLJcH/5KSEp04cUK33XabvvjiC02ePFlFRUX29vfee0+jRo2y37R7+vRpSXLa5cfGdjw3N1eSlJOTc1P9z5w5UwWjAQAAAG4NLg/+tiU5+fn5mjhxoh555BH95S9/UdOmTbV582bFx8fr/fff11133aXo6Gj7mwJvb+8yz2c7bluzb/vZoEGDm+pflerV81Lz5g2r/LwAAAComW6l7OfyNf6XLl2SJBUVFal79+5688031bp1azVq1Ej9+/fXzJkzJUlz5syR1Wq135zr4eFR5vmsVqvDz4r2BwAAAEzg8hn/a2fif//73zu19+7dWy1atNCpU6d09OhR+fj4SJKKi4vLPJ/tjYSt3832L+8TgZ+jpMSi/PyiG3esQrfSu0wAAIDaJifHtd8P1bhxA9WrV7kI7/IZ/4YNG6pu3bqSpNtvv73MPkFBQZKks2fPKjAwUNJPa/ivd/2a/or2BwAAAEzg8uBfp04dtW3bVpJ06tSpMvvYQntAQIB9dx7bbj3Xslqtys7Odjjn/9VfkrKysiRJoaGhP2MUAAAAwK3FLfv4P/jgg5KkL774wqktOztbP/zwgwIDA3XHHXcoMjJSkrRu3Tqnvjt37lReXp7Cw8Pte/Z369ZN3t7e2rp1q9MNvBcuXNDWrVvl4+Oj8PDwqh4WAAAAUGO5Jfg/8cQT8vHx0aeffqpVq1bZj+fn5ysuLk6lpaUaNmyYPD09FRERoeDgYKWmpmr58uX2vnl5eYqPj5fk+EVgPj4+GjRokPLz8xUfHy+LxSJJslgsmjZtmgoKChQdHe305V4AAABAbeaWL/Bq1aqVXnnlFf3tb3/ThAkT9MEHHygwMFC7d+/W2bNn1aNHD40aNUrS1V16ZsyYoREjRmjKlClKSkpSYGCgduzYofz8fEVFRalPnz4O5x83bpy2b9+uTz/9VOnp6Wrfvr3279+v48ePq3379ho7dqw7hg0AAAC4jVtm/CWpf//+SkpKUr9+/fTjjz9qy5Ytatq0qcaPH6958+bZbwCWpLCwMCUmJqpfv346evSoUlNTFRQUpPj4eL300ktO5/b399fSpUsVExMji8Wi9evXy9PTU6NHj9bChQvl6+vrwpECAAAA7ueWGX+be++9V7Nmzbqpvu3atbvpvtLV8B8XF6e4uLjKXh4AAABQa7htxh8AAACA6xD8AQAAAAMQ/AEAAAADEPwBAAAAAxD8AQAAAAMQ/AEAAAADEPwBAAAAAxD8AQAAAAMQ/AEAAAADEPwBAAAAAxD8AQAAAAMQ/AEAAAADEPwBAAAAAxD8AQAAAAMQ/AEAAAADEPwBAAAAAxD8AQAAAAMQ/AEAAAADEPwBAAAAAxD8AQAAAAMQ/AEAAAADEPwBAAAAAxD8AQAAAAMQ/AEAAAADEPwBAAAAAxD8AQAAAAMQ/AEAAAADEPwBAAAAAxD8AQAAAAMQ/AEAAAADEPwBAAAAAxD8AQAAAAMQ/AEAAAADEPwBAAAAAxD8AQAAAAMQ/AEAAAADEPwBAAAAAxD8AQAAAAMQ/AEAAAADEPwBAAAAAxD8AQAAAAMQ/AEAAAADEPwBAAAAAxD8AQAAAAMQ/AEAAAADEPwBAAAAAxD8AQAAAAMQ/AEAAAADEPwBAAAAAxD8AQAAAAMQ/AEAAAADEPwBAAAAAxD8AQAAAAMQ/AEAAAADEPwBAAAAAxD8AQAAAAMQ/AEAAAADEPwBAAAAAxD8AQAAAAMQ/AEAAAADEPwBAAAAAxD8AQAAAAMQ/AEAAAADEPwBAAAAAxD8AQAAAAMQ/AEAAAADEPwBAAAAA9SI4H/u3Dk98MADCg0NLbP98OHDev7559WrVy916tRJAwYM0EcffaTS0tIy+xcUFOiNN95Qv379FBYWpj59+ui1115TYWFhdQ4DAAAAqLFqRPCPj49XTk5OmW0HDx7U4MGDtXr1agUFBSkyMlInT57U9OnTFRsb69S/sLBQw4cP17x58+Th4aHevXvLw8NDH3zwgaKjo3X+/PnqHg4AAABQ47g9+P/nP/9RcnJymW1Wq1WxsbEqLCzU66+/riVLlujdd99VSkqKQkNDtWrVKqWkpDg8JiEhQRkZGYqKilJycrJmzZqllJQUDRw4UJmZmUpISHDBqAAAAICaxa3B/9SpU5o+fbo6d+6sOnXqOLWnpqYqIyNDERERGjhwoP14QECApk6dKklatGiR/XhBQYESExPl5+eniRMnytPz6vC8vLw0depUNW7cWElJSbp48WI1jwwAAACoWdwa/CdPnqxLly5p5syZZbZv2rRJktS3b1+ntvDwcDVt2lTp6en2tftpaWkqLi5Wjx495Ofn59Df19dXPXv2VHFxsdLS0qp4JAAAAEDN5rbgv3jxYm3atEkTJkzQXXfdVWafzMxMSVJISEiZ7a1bt1ZpaamysrIc+gcHB5fZv02bNpKkjIyMn3XtAAAAwK3GLcH/2LFjeuONN9SjRw8NGzas3H6nT5+WJDVv3rzMdtvx3NxcSbLfIHyj/mfOnKnchQMAAAC3KC9XP+GVK1cUGxsrDw8Pvfrqq/Lw8Ci3b1FRkSTJ29u7zHbbcduafdvPBg0a3FT/qlavnpeaN29YLecGAABAzXMrZT+Xz/jPmzdPu3bt0osvvqigoKD/s6/t5tzy3hxYrVaHnxXtDwAAAJjCpTP+Bw8e1OzZs9WrVy8NGTLkhv19fHwkScXFxWW2X7p0yaHfzfYv7xOBn6ukxKL8/KJqOXd5bqV3mQAAALVNTo5rvyOqceMGqlevchHepcH/73//uy5fviyLxaIJEyY4tNm+hdd2fNKkSQoMDNSBAweUm5urtm3bOp3v+jX9gYGBkn5a83+j/gAAAIApXBr8bWvrU1NTy+2zatUqSdJf//pXBQcHa8OGDcrMzFT37t0d+lmtVmVnZ6tOnTr2NwW23Xxsu/tcz7b7T2ho6M8bCAAAAHCLcWnwv/bLtq7Xvn17XblyxWGrzcjISM2bN0/r1q1z2v1n586dysvLU0REhH3P/m7dusnb21tbt27VxYsX7Ut/JOnChQvaunWrfHx8FB4eXsUjAwAAAGo2t36B141EREQoODhYqampWr58uf14Xl6e4uPjJUkjR460H/fx8dGgQYOUn5+v+Ph4WSwWSZLFYtG0adNUUFCg6Ohopy/3AgAAAGo7l2/nWRGenp6aMWOGRowYoSlTpigpKUmBgYHasWOH8vPzFRUVpT59+jg8Zty4cdq+fbs+/fRTpaenq3379tq/f7+OHz+u9u3ba+zYsW4aDQAAAOA+NXrGX5LCwsKUmJiofv366ejRo0pNTVVQUJDi4+P10ksvOfX39/fX0qVLFRMTI4vFovXr18vT01OjR4/WwoUL5evr6/pBAAAAAG5WY2b89+/fX25bu3btNGvWrJs+l7+/v+Li4hQXF1cVlwYAAADc8mr8jD8AAACAn4/gDwAAABiA4A8AAAAYgOAPAAAAGIDgDwAAABiA4A8AAAAYgOAPAAAAGIDgDwAAABiA4A8AAAAYgOAPAAAAGIDgDwAAABiA4A8AAAAYgOAPAAAAGIDgDwAAABiA4A8AAAAYgOAPAAAAGIDgDwAAABiA4A8AAAAYgOAPAAAAGIDgDwAAABiA4A8AAAAYgOAPAAAAGIDgDwAAABiA4A8AAAAYgOAPAAAAGIDgDwAAABiA4A8AAAAYgOAPAAAAGIDgDwAAABiA4A8AAAAYgOAPAAAAGIDgDwAAABiA4A8AAAAYgOAPAAAAGIDgDwAAABiA4A8AAAAYgOAPAAAAGIDgDwAAABiA4A8AAAAYgOAPAAAAGIDgDwAAABiA4A8AAAAYgOAPAAAAGIDgDwAAABiA4A8AAAAYgOAPAAAAGIDgDwAAABiA4A8AAAAYgOAPAAAAGIDgDwAAABiA4A8AAAAYgOAPAAAAGIDgDwAAABiA4A8AAAAYgOAPAAAAGIDgDwAAABiA4A8AAAAYgOAPAAAAGIDgDwAAABiA4A8AAAAYgOAPAAAAGIDgDwAAABiA4A8AAAAYgOAPAAAAGIDgDwAAABiA4A8AAAAYgOAPAAAAGMDLHU965coVLVmyRJ988omys7N15coV3XHHHerfv79Gjx6t+vXrO/Q/fPiwZs+erfT0dJ07d0533nmnoqOjNXToUHl6Or93KSgo0Ny5c7V27VqdOHFCzZo108MPP6xnnnlGfn5+rhomAAAAUGO4fMb/ypUrevrppzV9+nRlZ2erU6dOioiI0OnTpzVr1izFxMSoqKjI3v/gwYMaPHiwVq9eraCgIEVGRurkyZOaPn26YmNjnc5fWFio4cOHa968efLw8FDv3r3l4eGhDz74QNHR0Tp//rwrhwsAAADUCC4P/omJifrqq68UGhqqL774QgsWLNC8efOUkpKizp07a8+ePfrHP/4hSbJarYqNjVVhYaFef/11LVmyRO+++65SUlIUGhqqVatWKSUlxeH8CQkJysjIUFRUlJKTkzVr1iylpKRo4MCByszMVEJCgquHDAAAALidy4P/J598IkmaNGmSWrRoYT8eEBCgl156SZK0evVqSVJqaqoyMjIUERGhgQMHOvSdOnWqJGnRokX24wUFBUpMTJSfn58mTpxoXwbk5eWlqVOnqnHjxkpKStLFixerdYwAAABATePy4N+kSRO1adNGYWFhTm133323JOn06dOSpE2bNkmS+vbt69Q3PDxcTZs2VXp6ugoLCyVJaWlpKi4uVo8ePZzW8vv6+qpnz54qLi5WWlpaVQ4JAAAAqPFcHvz/+c9/6vPPP5ePj49T2759+yRJt912myQpMzNTkhQSElLmuVq3bq3S0lJlZWU59A8ODi6zf5s2bSRJGRkZP2MEAAAAwK2nxmznabVaNWvWLEnSww8/LOmnmf/mzZuX+Rjb8dzcXElSTk7OTfU/c+ZMFV01AAAAcGtwy3aeZXn77be1Y8cONWvWTKNHj5Yk++4+3t7eZT7Gdty2Zt/2s0GDBjfVv6rVq+el5s0bVsu5AQAAUPPcStmvRsz4v/POO/rXv/6levXqKSEhQQEBAZJkvznXw8OjzMdZrVaHnxXtDwAAAJjCrTP+FotF06ZN07Jly1S/fn3Nnj1b3bp1s7fb7gMoLi4u8/GXLl1y6Hez/cv7RODnKimxKD+/6MYdq9Ct9C4TAACgtsnJce13RDVu3ED16lUuwrttxv/ChQv685//rGXLlqlRo0Z6//331atXL4c+gYGBkn5aw3+969f0V7Q/AAAAYAq3BP/8/HzFxMRo06ZNatmypT7++GOHmX4b2+48tt16rmW1WpWdna06deqobdu2N+wvyb77T2hoaJWMAwAAALhVuDz4l5SUaMyYMfr222/Vrl07LV26tNztOiMjIyVJ69atc2rbuXOn8vLyFB4ebt+zv1u3bvL29tbWrVudbuC9cOGCtm7dKh8fH4WHh1fxqAAAAICazeXBf9asWdq9e7datmypRYsW2ffsL0tERISCg4OVmpqq5cuX24/n5eUpPj5ekjRy5Ej7cR8fHw0aNEj5+fmKj4+XxWKR9NO9BAUFBYqOjnb6ci8AAACgtnPpzb3nzp3TokWLJEkBAQGaMWNGuX3ffPNNeXp6asaMGRoxYoSmTJmipKQkBQYGaseOHcrPz1dUVJT69Onj8Lhx48Zp+/bt+vTTT5Wenq727dtr//79On78uNq3b6+xY8dW6xgBAACAmsilwX/v3r32HXe+/fZbffvtt+X2ffPNNyVJYWFhSkxM1KxZs7R9+3Z99913uuuuu/T8889ryJAhTo/z9/fX0qVL9e6772rt2rVav369WrZsqdGjR+vPf/6zfH19q2dwAAAAQA3m0uD/4IMPKiMjo8KPa9eunf1bfW+Gv7+/4uLiFBcXV+HnAgAAAGqjGvEFXgAAAACqF8EfAAAAMADBHwAAADAAwR8AAAAwAMEfAAAAMADBHwAAADAAwR8AAAAwAMEfAAAAMADBHwAAADAAwR8AAAAwAMEfAAAAMADBHwAAADAAwR8AAAAwAMEfAAAAMADBHwAAADAAwR8AAAAwAMEfAAAAMADBHwAAADAAwR8AAAAwAMEfAAAAMADBHwAAADAAwR8AAAAwAMEfAAAAMADBHwAAADAAwR8AAAAwAMEfAAAAMADBHwAAADAAwR8AAAAwAMEfAAAAMADBHwAAADAAwR8AAAAwAMEfAAAAMADBHwAAADAAwR8AAAAwAMEfAAAAMADBHwAAADAAwR8AAAAwAMEfAAAAMADBHwAAADAAwR8AAAAwAMEfAAAAMADBHwAAADAAwR8AAAAwAMEfAAAAMADBHwAAADAAwR8AAAAwAMEfAAAAMADBHwAAADAAwR8AAAAwAMEfAAAAMADBHwAAADAAwR8AAAAwAMEfAAAAMADBHwAAADAAwR8AAAAwAMEfAAAAMADBHwAAADAAwR8AAAAwAMEfAAAAMADBHwAAADAAwR8AAAAwAMEfAAAAMADBHwAAADAAwR8AAAAwAMEfAAAAMADBHwAAADAAwR8AAAAwQK0O/lu2bNEf/vAHde/eXV26dFFMTIw2bdrk7ssCAAAAXK7WBv8VK1Zo5MiR2rVrl8LCwtS5c2ft2rVLo0eP1rJly9x9eQAAAIBLebn7AqrD6dOnNXXqVDVs2FCLFy9WSEiIJGnv3r0aOXKkXnnlFfXu3VstWrRw85UCAAAArlErZ/w/+ugjlZSU6Mknn7SHfkkKCwvT6NGjdenSJWb9AQAAYJRaGfxt6/j79u3r1PbQQw9JkjZu3OjSawIAAADcqdYFf6vVqszMTHl6eqpNmzZO7Xfffbc8PT2VmZkpq9XqhisEAAAAXK/WBf/8/HyVlJTI399f9erVc2r38vJSkyZNVFRUpAsXLrjhCgEAAADX87DWsmnvEydOqHfv3mrVqpW+/PLLMvv06dNHP/zwgzZu3MgNvgAAADBCrZvx9/S88ZBq2XsdAAAA4IZqXfD38fGRJF26dKncPra2Bg0auOSaAAAAAHerdcHfz89PPj4+Onv2rCwWi1O7xWLR2bNnVb9+fTVq1MgNVwgAAAC4Xq0L/h4eHmrXrp2uXLmiI0eOOLUfPnxYpaWlDvv7AwAAALVdrQv+khQZGSlJWrt2rVOb7VivXr1cek0AAACAO9XK4P/444+rfv36eu+99/TNN9/Yj+/bt0/z5s2Tt7e3hg4d6sYrBAAAAFyr1m3nafPxxx9r2rRpqlu3rnr06CGr1art27fLYrFo5syZGjhwoLsvEQAAAHCZWhv8JWn9+vWaN2+e9u/fr3r16ik0NFRPPfWUevbs6e5LAwAAAFyqVgd/AAAAAFfVyjX+AAAAABwR/AEAAAADEPwBAAAAAxD8AQAAAAMQ/AEAAAADEPwBAAAAAxD8AQAAAAMQ/AEAAAADEPwBAAAAAxD8AQAAAAMQ/FGuFStWKDQ0VF9//XWZ7WvXrlVMTIy6dOmirl276ve//73+85//3PT5586dq9DQUM2ePbvM9itXrmjp0qUaNGiQOnfurJ49e2rcuHE6fPhwpcZTW1R1Xfr27avQ0NBy/7FYLA79qYuzqq6J1WrVv//9b0VHR6tz587q1KmToqOjlZycXGZ/alK2qqrL7Nmz/8/fEds/MTExDo+jLs6q+nfl5MmTmjx5sh588EF17NhR999/v8aNG6fMzMwy+1OTslV1XQ4ePKjnnntOPXv2VKdOnfSb3/xG//rXv3Tx4sUy+1MX1/Fy9wWgZtq1a5emT59ebvvbb7+tuXPnSpLuuecetWzZUt98843Gjx+vzZs365VXXlGdOnXKffzBgwfLDfw2cXFxWrFihZo0aaIHHnhAJ06cUHJysr766it9/PHHat++feUGdwur6rqcP39e33//vZo1a6aePXuWeU5PT8f5AeriqKprYrVaFRsbq88++0w+Pj7q3r27Lly4oPT0dI0bN05nzpxxCpjUxFlV1iU0NFQDBgwo91xr165VUVGR7r33Xofj1MVRVf+uHD9+XE888YRyc3N11113qXfv3jp69KiSk5P15Zdfav78+QoPD3d4DmrirKrr8uWXX+q5555TSUmJgoKCdN999+nYsWN666239MUXX+i9995T06ZNHZ6DuriQFbhOSkqKtXPnztaQkBBrSEiINS0tzaF9y5Yt1pCQEGuHDh2sKSkp9uNFRUXW559/3hoSEmJdtGhRuee/dOmSdcCAAfbzz5o1q8xrCAkJsT722GPWgoIC+/ElS5ZYQ0JCrAMGDLCWlpZWwWhvHdVRl+3bt1tDQkKskydPvulroC4/qY6aJCUlWUNCQqy/+c1vrKdOnbIfT0tLs3bs2NHavn17a25ursM1UBNH1f0adq3ExERrSEiIdciQIdaSkhKHa6AuP6mOmowdO9YaEhJinTFjhvXKlSv24//v//0/++/Q9ddATRxVdV3Onj1rDQ8Pt4aEhFjfeOMNq8Visbd9+OGH1pCQEOvYsWOdroG6uA5LfWB38uRJxcbGauzYsSotLVWzZs3K7Ld8+XJJ0qhRo/Twww/bj3t7e2vatGkKCAjQu+++67RExOadd95RRkaGunbtWu61zJ8/X5L0wgsvqGHDhvbjTzzxhH75y18qIyND27dvr/AYb0XVWZf9+/dLkjp06HBT10JdrqrOmvzzn/+Ul5eXEhISFBgYaD/etWtXRUdHq0WLFvrmm2/sx6nJT1z1GmZz5MgRvfLKK/L29tYbb7yhunXr2tuoy1XVWZPNmzdLksaOHevwyeSYMWPk6+urQ4cOKT8/336cmvykuury+eef6/z58+rSpYvGjx/v8EnAH/7wB0VGRiolJUUHDhywH6curkXwh11CQoJWrlypjh07atmyZWrTpk2Z/Q4dOiRJ+p//+R+nNl9fX3Xs2FFnz551CCc26enpmj9/vqKionT//feXef6CggLt3r1b/v7+Zb456Nu3ryRp48aNNz22W1l11sX24nszwZ+6/KS6anLgwAEdO3ZMkZGRatu2rdNj4uLi9OWXX6pXr16SqMn1XPEadq1XX31VFy9e1FNPPaW77rrLfpy6/KQ6a2IL+6dOnXLof+HCBZWUlKhu3bry8fGRRE2uV111uba/h4eH02O6d+8uSdq0aZMk6uIOBH/YtWnTRjNnzlRiYqJCQ0PL7VdaWirp6i99WWzv8LOyshyOX7x4US+88IJatmypiRMnlnv+rKwsWa1WtW3b1ml9ue06pZ9eYGq76qzL/v37VadOHR0+fFjDhg1T165d1a1bN/35z3/W3r17HR5PXX5SXTX59ttvJUlhYWEqLS3VunXr9Morr+h///d/tWTJEqcb46iJo+p+DbvWpk2b9NVXX6lVq1YaOXKkQxt1+Ul11uTBBx+UJI0fP1579uxRcXGxvvvuO40dO1aXL19WTEyM/VMYauKouupyo/5eXl4O/amL63FzL+zGjBlzU/1at26t7Oxsff311woODnZoKykpsYeXvLw8h7bXXntNx48f14cffig/P79yz5+TkyNJat68eZnttuUPZ86cuanrvdVVV11KSkqUnZ2tK1euKDY2Vr/4xS/UvXt3fffdd1q/fr02b96sN998U4888ogk6nKt6qrJsWPHJEk+Pj4aMWKEduzY4fCY9957T++995790wBq4qi6X8OuZducYPTo0apfv75DG3X5SXXWJC4uTj/++KN27dqlqKgo+/G6detq0qRJ+sMf/mA/Rk0cVVddWrduLUn6+uuvNWzYMKfzpaenO/SnLq7HjD8q7LHHHpN09aPCPXv22I+XlJTo5Zdf1unTp+3/bbNhwwYtW7ZMMTEx9o/6ymOb1WzQoEGZ7bb/yZa3LZipKlqXjIwMWSwW+fr6asGCBUpKStKcOXO0Zs0avfjii7p8+bJefPFF+wszdam4itbk/PnzkqQ5c+YoKytLCQkJSktL0+eff65HHnlEP/zwg/70pz+puLhYEjWprMq8hl0rPT1de/bsUbNmzfS73/3OqZ26VFxlatK4cWMNGjRIDRs21N13361f/epXatu2rS5fvqzFixfbQ6lETSqronXp37+/6tevr+TkZCUmJjqca8WKFfrvf//r0J+6uB4z/qiwhx56SEOGDFFiYqKeeOIJhYWFKSAgQPv371dBQYEee+wxffLJJ/aPWM+dO6fJkyfr7rvv1vjx4294ftvHfWWtD5Subnd47U9cVdG6/OIXv9DmzZtVUlKiVq1aOZzrySefVFpamtauXatPPvlEY8aMoS6VUNGaXLp0SdLVNwAff/yxfSvCRo0aKSEhQVFRUdq7d68+++wzRUVFUZNKqmhdrrdw4UJJ0vDhw51m+yVewyqjMjV5/vnn9cUXX+iFF15wWG6VmJioKVOmaNSoUfr8888VEBBATSqponUJDAzUtGnT9OKLLyouLk7z589XmzZtdOzYMX333XcaOnSoFi9ebF/yQ11cjxl/VMrLL7+sl19+WaGhodq/f792796trl276tNPP9Xdd98tSfa78+Pj45WXl6eZM2fK29v7hue23Yxlm9W8nm2moLwZApNVpC7S1Y9Xrw/9NrabuWw3bVGXyqlITWx/xvfcc4/T/uMeHh725Qy2HS6oSeVV9HfFpqioSF999ZUk6be//W2Z56YulVORmmzcuFFffPGFevXq5XSPxZAhQ/TYY4/p3LlzWrJkiSRq8nNU9Hdl0KBBWrhwoe6//36dPHlSW7duVdOmTfXBBx/Yvw+jUaNGkqiLOzDjj0obMmSIhgwZ4nQ8OztbkhQUFKR9+/YpOTlZzZo100cffaSPPvrI3u+7776TJK1Zs0ZHjx5Vt27dFB0dbV/Tl5ubW+bz2j5aLG9NoOlupi43w/bna3tBpi6Vd7M1adKkiSSV+2bM1u/cuXOSqMnPVZnflY0bN6q4uFj33XdfuXWiLpV3szWx3f/yy1/+sszz9OrVSytWrLDvXEZNfp6K/q5069ZN3bp1c+qflJQkSWrZsqUk6uIOBH9U2MmTJ5WVlaV27dqpRYsWTu3bt2+Xh4eHOnToYL9zPzc3V6tWrSrzfIcOHdKhQ4fk5eWl6OhotWvXTp6enuXuqGF7oQkJCamiEdUOFamLJCUnJ2vdunXq3bt3md9K+v3330uSbrvtNkmiLpVQ0ZrYdtew/c/uerb7LWxvEKhJ5VS0LtfasGGDpKtLIMpDXSquojUpKCiQ9NMuMdezHb98+bIkalJZFa1LYWGh9u/fr0aNGumee+5x6r9t2zZJUseOHSVRF3dgqQ8q7KuvvtIf//hHLV682Klt/fr1OnnypLp27apmzZqpe/fuysjIKPOf5557TpL0zDPPKCMjQ6+99pqkqx/9hYeH68yZM9q5c6fTc6xdu1aS7HuZ46qK1EW6ukvCf/7zH/tH4deyWq367LPPJEkPPPCAJOpSGRWtSffu3VW/fn198803On78uNNjbHtf2/a7piaVU9G6XMu2zW2XLl3KPT91qbiK1sS2zaPtjdj1UlNTJckePqlJ5VS0LqdPn1ZMTIzi4+Od+ufm5mrt2rXy8/NTZGSkJOriDgR/VNiDDz6ounXravHixTp69Kj9eHZ2tqZOnSpJevbZZ3/WcwwdOlTST/cH2CxbtkxbtmxRhw4dbrg7kGkqWpdHH31Ufn5+Sk9P14IFC+zHrVar5syZo927dyskJER9+vSxt1GXiqloTRo2bKjBgwertLRUf/vb3+xLeqSrn9CsXr1aAQEB6t+/v/04Nam4yr6GXbx4UdnZ2fLy8rrhl95Rl4qpaE0GDBggHx8fbdy4UYsWLXI4V3JyspYtW6b69es7LE+hJhVX0bq0adNGrVu31s6dO5WSkmI/XlhYqPHjx6uoqEgjR450uCeAurgWS31QYUFBQfrrX/+qN954QwMHDlRERISuXLmi7du36/Lly5owYYIiIiJ+1nP0799fa9assW9jGBERoVOnTmnv3r1q1KiRZs6cWUWjqT0qWpeAgADNmDFD48eP16uvvqqkpCS1adNGGRkZOnLkiJo3b67Zs2c7fJROXSqmMr8r48eP14EDB7Rz50717dtX3bp1U05Ojvbt26d69erptddes98YJ1GTyqjsa9iJEyd05coVtWzZsszdfK5FXSqmojVp2rSp3njjDY0bN04vv/yyPv74YwUHB+vYsWM6ePCg6tatq1dffVW33367/THUpOIq87syY8YMxcTE6LnnnlN4eLgaN26s9PR0nTt3Tr/61a/0pz/9yaE/dXEtgj8qZfTo0WrSpIkWLVqkrVu3qmHDhurevbtGjRpV7s1WFfXmm2/qvvvuU1JSkjZs2KAmTZro0Ucf1bPPPmvfSQCOKlqXfv36qVWrVpo7d67S0tJ05MgRBQYGKiYmRk8//bQCAgKcHkNdKqaiNfH19dWHH36ohQsXauXKlUpNTZWvr68eeughPfXUU2XONFOTiqvMa5htNtJ238uNUJeKqWhN+vbtq6SkJL333nvatm2b1q9fr4YNG6pfv34aM2aMfR35tahJxVW0Ll26dNHChQs1Z84c7dq1S56enmrdurXGjx+vxx9/vMz7MqiL63hY2RwVAAAAqPVY4w8AAAAYgOAPAAAAGIDgDwAAABiA4A8AAAAYgOAPAAAAGIDgDwAAABiA4A8AAAAYgOAPAAAAGIDgDwAAABiA4A8AAAAYgOAPAAAAGIDgDwAAABiA4A8AAAAYgOAPAAAAGIDgDwAAABiA4A8AAAAYgOAPAAAAGIDgDwAAABiA4A8AAAAYgOAPAAAAGIDgDwAAABiA4A8AAAAYgOAPAAAAGIDgDwAAABiA4A8AAAAYgOAPAAAAGMDL3RcAALh1rV+/XitWrNDevXuVl5cnLy8v3XbbbXrwwQc1evRoNW/e3KH/qVOn9N5772nDhg06efKkWrRooUcffVRPPfWU+vfvrx9++EHr1q3T7bff7vC4tLQ0LViwQLt27VJBQYGaNm2q+++/X3/605901113uXLIAHDL8rBarVZ3XwQA4NYzefJkJSUlSZKCgoIUEBCg3NxcnTx5UpLUokULrVy5Uk2aNJEkfffddxo5cqRycnLk7e2ttm3b6vTp08rJyVGnTp30ww8/KDc31yn4/+Mf/9A777wjSWrSpImCgoJ0/PhxFRQUqEGDBnrnnXfUq1cvF48eAG49LPUBAFTYl19+qaSkJPn4+OjDDz/U+vXr9e9//1sbNmzQokWL5OPjo1OnTtnfGJSWlmrChAnKyclR7969tWHDBq1YsUKbNm3S//7v/2rfvn3Kzc11ep41a9bonXfekZ+fn/7+979r27ZtWrFihbZs2aLnnntORUVFev755/Xjjz+6+o8AAG45BH8AQIVt2bJFdevW1fDhw9WjRw+HtoiICPXv31+SlJWVJUlat26dDh48qNtuu01///vf5e/vL0ny8PDQsGHD9OSTT5b5PLaZ/kmTJtnPKUl169bV008/rV//+tcqLCzUggULqnaAAFALEfwBABUWFxenPXv2aOzYsWW2N2jQQJJUVFQk6eonBJI0YMAA+fj4OPUfOnSo07Fjx44pMzNTnp6eDqH/Wr/5zW8kSRs3bqz4IADAMNzcCwColDp16ujSpUvatm2bsrKy9P333+vIkSP69ttvdfbsWUmS7Tay7OxsSVJoaGiZ57rjjjvk5+enwsJC+7HMzExJkqenp/74xz+W+bji4mJJ0tGjR2W1WuXh4VE1gwOAWojgDwCosNLSUs2dO1cLFizQuXPn7Mfr16+vsLAwlZaWKj093X7c1sf2SUBZfH19HYK/7d8tFot27tx5w+u5cOGC/Pz8KjEaADADwR8AUGHvvPOO/vnPf8rLy0vDhw9XRESEgoODdeedd8rLy0tvv/22Q/C3Bf4LFy6Ue86LFy86/LdtSVBISIhWrVpVDaMAALMQ/AEAFXL58mUtXLhQkvTyyy/rsccec+pj29LTpm3btjpw4IAOHTpU5jlPnDih8+fPOxyz7c9//PhxlZSUqF69ek6Py83N1ZEjR3THHXeoRYsWlRoPAJiCm3sBABWSl5dnn52/9957ndrPnDmjr776StLVZTqS9Ktf/UqSlJycbF+Xfy3btp/XateunVq1aqWioiKtXLmyzGt56623NGzYMI0bN65SYwEAkxD8AQAV0rRpUzVq1EiSNH/+fJWUlNjbDhw4oFGjRik/P1+SdOnSJUnSww8/rODgYP34448aP368CgoK7I/57LPPNHfuXKfn8fDw0NNPPy1JmjFjhlavXm1vs1gsmjdvnlasWCFJ5d78CwD4Cd/cCwCosAULFujVV1+VJDVu3Fi333678vPz9f3330uSunfvru3btzuszz906JBiYmJ07tw5NWjQQG3bttWZM2d04sQJdezYUd98840kacOGDbrtttvsz/Xqq6/a9+lv3ry5WrRooe+//95+w/Bf/vIXPfvssy4aOQDcugj+AIBKWb9+vd5//31lZWXp/PnzatKkicLCwhQTE6Nf/OIX6t69uywWi/773//qjjvukHR1Lf/s2bO1adMmnT17Vi1bttSgQYP029/+Vn379pUkbdu2TU2aNHF4rs2bN+vjjz/Wnj17lJ+fLz8/P3Xs2FFDhw61LyMCAPzfCP4AALfLyspS//79VbduXe3bt4/9+AGgGrDGHwBQ7ZYuXapf//rXmjNnTpntmzZtkiTdc889hH4AqCYEfwBAtevQoYOys7M1b948bdu2zaFtw4YNeueddyRJTzzxhDsuDwCMwFIfAIBLTJ482b5tZ6tWrdSkSROdPn1ap0+fliQNGTJEL7/8sjsvEQBqNYI/AMAlrFar1q9fr8WLFysrK0s5OTny9/fXvffeq6ioKD300EPuvkQAqNUI/gAAAIABWOMPAAAAGIDgDwAAABiA4A8AAAAYgOAPAAAAGIDgDwAAABiA4A8AAAAYgOAPAAAAGIDgDwAAABiA4A8AAAAYgOAPAAAAGIDgDwAAABiA4A8AAAAYgOAPAAAAGOD/A/E0+MzxhQpZAAAAAElFTkSuQmCC\n",
      "text/plain": [
       "<Figure size 432x288 with 1 Axes>"
      ]
     },
     "metadata": {
      "image/png": {
       "height": 271,
       "width": 383
      }
     },
     "output_type": "display_data"
    }
   ],
   "source": [
    "# Single Metric Variable Histogram\n",
    "plt.hist(df[\"age\"], bins=10)  # mess around with the bins\n",
    "plt.title(\"age\", y=-0.2)\n",
    "\n",
    "plt.show()"
   ]
  },
  {
   "cell_type": "code",
   "execution_count": 11,
   "metadata": {},
   "outputs": [
    {
     "data": {
      "image/png": "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\n",
      "text/plain": [
       "<Figure size 432x288 with 1 Axes>"
      ]
     },
     "metadata": {
      "image/png": {
       "height": 231,
       "width": 398
      }
     },
     "output_type": "display_data"
    }
   ],
   "source": [
    "# Single Metric Variable Box Plot\n",
    "sns.boxplot(y=df[\"age\"])\n",
    "\n",
    "plt.show()"
   ]
  },
  {
   "cell_type": "markdown",
   "metadata": {},
   "source": [
    "What information can we extract from the plots above?"
   ]
  },
  {
   "cell_type": "code",
   "execution_count": 12,
   "metadata": {},
   "outputs": [
    {
     "ename": "NameError",
     "evalue": "name 'axes' is not defined",
     "output_type": "error",
     "traceback": [
      "\u001b[1;31m---------------------------------------------------------------------------\u001b[0m",
      "\u001b[1;31mNameError\u001b[0m                                 Traceback (most recent call last)",
      "\u001b[1;32m<ipython-input-12-c69ec4ac768f>\u001b[0m in \u001b[0;36m<module>\u001b[1;34m\u001b[0m\n\u001b[1;32m----> 1\u001b[1;33m \u001b[0maxes\u001b[0m\u001b[1;33m.\u001b[0m\u001b[0mflatten\u001b[0m\u001b[1;33m(\u001b[0m\u001b[1;33m)\u001b[0m \u001b[1;31m#give all the values in a simples array\u001b[0m\u001b[1;33m\u001b[0m\u001b[1;33m\u001b[0m\u001b[0m\n\u001b[0m",
      "\u001b[1;31mNameError\u001b[0m: name 'axes' is not defined"
     ]
    }
   ],
   "source": [
    "axes.flatten() #give all the values in a simples array"
   ]
  },
  {
   "cell_type": "code",
   "execution_count": 13,
   "metadata": {},
   "outputs": [
    {
     "ename": "TypeError",
     "evalue": "'<=' not supported between instances of 'int' and 'str'",
     "output_type": "error",
     "traceback": [
      "\u001b[1;31m---------------------------------------------------------------------------\u001b[0m",
      "\u001b[1;31mTypeError\u001b[0m                                 Traceback (most recent call last)",
      "\u001b[1;32m<ipython-input-13-18e2a5058412>\u001b[0m in \u001b[0;36m<module>\u001b[1;34m\u001b[0m\n\u001b[0;32m     10\u001b[0m \u001b[1;31m# Iterate across axes objects and associate each histogram (hint: use the ax.hist() instead of plt.hist()):\u001b[0m\u001b[1;33m\u001b[0m\u001b[1;33m\u001b[0m\u001b[1;33m\u001b[0m\u001b[0m\n\u001b[0;32m     11\u001b[0m \u001b[1;32mfor\u001b[0m \u001b[0max\u001b[0m\u001b[1;33m,\u001b[0m \u001b[0mfeat\u001b[0m \u001b[1;32min\u001b[0m \u001b[0mzip\u001b[0m\u001b[1;33m(\u001b[0m\u001b[0maxes\u001b[0m\u001b[1;33m.\u001b[0m\u001b[0mflatten\u001b[0m\u001b[1;33m(\u001b[0m\u001b[1;33m)\u001b[0m\u001b[1;33m,\u001b[0m \u001b[0mmetric_features\u001b[0m\u001b[1;33m)\u001b[0m\u001b[1;33m:\u001b[0m \u001b[1;31m# Notice the zip() function and flatten() method\u001b[0m\u001b[1;33m\u001b[0m\u001b[1;33m\u001b[0m\u001b[0m\n\u001b[1;32m---> 12\u001b[1;33m     \u001b[0max\u001b[0m\u001b[1;33m.\u001b[0m\u001b[0mhist\u001b[0m\u001b[1;33m(\u001b[0m\u001b[0mdf\u001b[0m\u001b[1;33m[\u001b[0m\u001b[0mfeat\u001b[0m\u001b[1;33m]\u001b[0m\u001b[1;33m)\u001b[0m\u001b[1;33m\u001b[0m\u001b[1;33m\u001b[0m\u001b[0m\n\u001b[0m\u001b[0;32m     13\u001b[0m     \u001b[0max\u001b[0m\u001b[1;33m.\u001b[0m\u001b[0mset_title\u001b[0m\u001b[1;33m(\u001b[0m\u001b[0mfeat\u001b[0m\u001b[1;33m,\u001b[0m \u001b[0my\u001b[0m\u001b[1;33m=\u001b[0m\u001b[1;33m-\u001b[0m\u001b[1;36m0.13\u001b[0m\u001b[1;33m)\u001b[0m\u001b[1;33m\u001b[0m\u001b[1;33m\u001b[0m\u001b[0m\n\u001b[0;32m     14\u001b[0m \u001b[1;33m\u001b[0m\u001b[0m\n",
      "\u001b[1;32m~\\anaconda3\\lib\\site-packages\\matplotlib\\__init__.py\u001b[0m in \u001b[0;36minner\u001b[1;34m(ax, data, *args, **kwargs)\u001b[0m\n\u001b[0;32m   1445\u001b[0m     \u001b[1;32mdef\u001b[0m \u001b[0minner\u001b[0m\u001b[1;33m(\u001b[0m\u001b[0max\u001b[0m\u001b[1;33m,\u001b[0m \u001b[1;33m*\u001b[0m\u001b[0margs\u001b[0m\u001b[1;33m,\u001b[0m \u001b[0mdata\u001b[0m\u001b[1;33m=\u001b[0m\u001b[1;32mNone\u001b[0m\u001b[1;33m,\u001b[0m \u001b[1;33m**\u001b[0m\u001b[0mkwargs\u001b[0m\u001b[1;33m)\u001b[0m\u001b[1;33m:\u001b[0m\u001b[1;33m\u001b[0m\u001b[1;33m\u001b[0m\u001b[0m\n\u001b[0;32m   1446\u001b[0m         \u001b[1;32mif\u001b[0m \u001b[0mdata\u001b[0m \u001b[1;32mis\u001b[0m \u001b[1;32mNone\u001b[0m\u001b[1;33m:\u001b[0m\u001b[1;33m\u001b[0m\u001b[1;33m\u001b[0m\u001b[0m\n\u001b[1;32m-> 1447\u001b[1;33m             \u001b[1;32mreturn\u001b[0m \u001b[0mfunc\u001b[0m\u001b[1;33m(\u001b[0m\u001b[0max\u001b[0m\u001b[1;33m,\u001b[0m \u001b[1;33m*\u001b[0m\u001b[0mmap\u001b[0m\u001b[1;33m(\u001b[0m\u001b[0msanitize_sequence\u001b[0m\u001b[1;33m,\u001b[0m \u001b[0margs\u001b[0m\u001b[1;33m)\u001b[0m\u001b[1;33m,\u001b[0m \u001b[1;33m**\u001b[0m\u001b[0mkwargs\u001b[0m\u001b[1;33m)\u001b[0m\u001b[1;33m\u001b[0m\u001b[1;33m\u001b[0m\u001b[0m\n\u001b[0m\u001b[0;32m   1448\u001b[0m \u001b[1;33m\u001b[0m\u001b[0m\n\u001b[0;32m   1449\u001b[0m         \u001b[0mbound\u001b[0m \u001b[1;33m=\u001b[0m \u001b[0mnew_sig\u001b[0m\u001b[1;33m.\u001b[0m\u001b[0mbind\u001b[0m\u001b[1;33m(\u001b[0m\u001b[0max\u001b[0m\u001b[1;33m,\u001b[0m \u001b[1;33m*\u001b[0m\u001b[0margs\u001b[0m\u001b[1;33m,\u001b[0m \u001b[1;33m**\u001b[0m\u001b[0mkwargs\u001b[0m\u001b[1;33m)\u001b[0m\u001b[1;33m\u001b[0m\u001b[1;33m\u001b[0m\u001b[0m\n",
      "\u001b[1;32m~\\anaconda3\\lib\\site-packages\\matplotlib\\axes\\_axes.py\u001b[0m in \u001b[0;36mhist\u001b[1;34m(self, x, bins, range, density, weights, cumulative, bottom, histtype, align, orientation, rwidth, log, color, label, stacked, **kwargs)\u001b[0m\n\u001b[0;32m   6621\u001b[0m                     \u001b[1;31m# python's min/max ignore nan,\u001b[0m\u001b[1;33m\u001b[0m\u001b[1;33m\u001b[0m\u001b[1;33m\u001b[0m\u001b[0m\n\u001b[0;32m   6622\u001b[0m                     \u001b[1;31m# np.minnan returns nan for all nan input\u001b[0m\u001b[1;33m\u001b[0m\u001b[1;33m\u001b[0m\u001b[1;33m\u001b[0m\u001b[0m\n\u001b[1;32m-> 6623\u001b[1;33m                     \u001b[0mxmin\u001b[0m \u001b[1;33m=\u001b[0m \u001b[0mmin\u001b[0m\u001b[1;33m(\u001b[0m\u001b[0mxmin\u001b[0m\u001b[1;33m,\u001b[0m \u001b[0mnp\u001b[0m\u001b[1;33m.\u001b[0m\u001b[0mnanmin\u001b[0m\u001b[1;33m(\u001b[0m\u001b[0mxi\u001b[0m\u001b[1;33m)\u001b[0m\u001b[1;33m)\u001b[0m\u001b[1;33m\u001b[0m\u001b[1;33m\u001b[0m\u001b[0m\n\u001b[0m\u001b[0;32m   6624\u001b[0m                     \u001b[0mxmax\u001b[0m \u001b[1;33m=\u001b[0m \u001b[0mmax\u001b[0m\u001b[1;33m(\u001b[0m\u001b[0mxmax\u001b[0m\u001b[1;33m,\u001b[0m \u001b[0mnp\u001b[0m\u001b[1;33m.\u001b[0m\u001b[0mnanmax\u001b[0m\u001b[1;33m(\u001b[0m\u001b[0mxi\u001b[0m\u001b[1;33m)\u001b[0m\u001b[1;33m)\u001b[0m\u001b[1;33m\u001b[0m\u001b[1;33m\u001b[0m\u001b[0m\n\u001b[0;32m   6625\u001b[0m             \u001b[1;32mif\u001b[0m \u001b[0mxmin\u001b[0m \u001b[1;33m<=\u001b[0m \u001b[0mxmax\u001b[0m\u001b[1;33m:\u001b[0m  \u001b[1;31m# Only happens if we have seen a finite value.\u001b[0m\u001b[1;33m\u001b[0m\u001b[1;33m\u001b[0m\u001b[0m\n",
      "\u001b[1;32m<__array_function__ internals>\u001b[0m in \u001b[0;36mnanmin\u001b[1;34m(*args, **kwargs)\u001b[0m\n",
      "\u001b[1;32m~\\anaconda3\\lib\\site-packages\\numpy\\lib\\nanfunctions.py\u001b[0m in \u001b[0;36mnanmin\u001b[1;34m(a, axis, out, keepdims)\u001b[0m\n\u001b[0;32m    324\u001b[0m         \u001b[1;31m# Slow, but safe for subclasses of ndarray\u001b[0m\u001b[1;33m\u001b[0m\u001b[1;33m\u001b[0m\u001b[1;33m\u001b[0m\u001b[0m\n\u001b[0;32m    325\u001b[0m         \u001b[0ma\u001b[0m\u001b[1;33m,\u001b[0m \u001b[0mmask\u001b[0m \u001b[1;33m=\u001b[0m \u001b[0m_replace_nan\u001b[0m\u001b[1;33m(\u001b[0m\u001b[0ma\u001b[0m\u001b[1;33m,\u001b[0m \u001b[1;33m+\u001b[0m\u001b[0mnp\u001b[0m\u001b[1;33m.\u001b[0m\u001b[0minf\u001b[0m\u001b[1;33m)\u001b[0m\u001b[1;33m\u001b[0m\u001b[1;33m\u001b[0m\u001b[0m\n\u001b[1;32m--> 326\u001b[1;33m         \u001b[0mres\u001b[0m \u001b[1;33m=\u001b[0m \u001b[0mnp\u001b[0m\u001b[1;33m.\u001b[0m\u001b[0mamin\u001b[0m\u001b[1;33m(\u001b[0m\u001b[0ma\u001b[0m\u001b[1;33m,\u001b[0m \u001b[0maxis\u001b[0m\u001b[1;33m=\u001b[0m\u001b[0maxis\u001b[0m\u001b[1;33m,\u001b[0m \u001b[0mout\u001b[0m\u001b[1;33m=\u001b[0m\u001b[0mout\u001b[0m\u001b[1;33m,\u001b[0m \u001b[1;33m**\u001b[0m\u001b[0mkwargs\u001b[0m\u001b[1;33m)\u001b[0m\u001b[1;33m\u001b[0m\u001b[1;33m\u001b[0m\u001b[0m\n\u001b[0m\u001b[0;32m    327\u001b[0m         \u001b[1;32mif\u001b[0m \u001b[0mmask\u001b[0m \u001b[1;32mis\u001b[0m \u001b[1;32mNone\u001b[0m\u001b[1;33m:\u001b[0m\u001b[1;33m\u001b[0m\u001b[1;33m\u001b[0m\u001b[0m\n\u001b[0;32m    328\u001b[0m             \u001b[1;32mreturn\u001b[0m \u001b[0mres\u001b[0m\u001b[1;33m\u001b[0m\u001b[1;33m\u001b[0m\u001b[0m\n",
      "\u001b[1;32m<__array_function__ internals>\u001b[0m in \u001b[0;36mamin\u001b[1;34m(*args, **kwargs)\u001b[0m\n",
      "\u001b[1;32m~\\anaconda3\\lib\\site-packages\\numpy\\core\\fromnumeric.py\u001b[0m in \u001b[0;36mamin\u001b[1;34m(a, axis, out, keepdims, initial, where)\u001b[0m\n\u001b[0;32m   2856\u001b[0m     \u001b[1;36m6\u001b[0m\u001b[1;33m\u001b[0m\u001b[1;33m\u001b[0m\u001b[0m\n\u001b[0;32m   2857\u001b[0m     \"\"\"\n\u001b[1;32m-> 2858\u001b[1;33m     return _wrapreduction(a, np.minimum, 'min', axis, None, out,\n\u001b[0m\u001b[0;32m   2859\u001b[0m                           keepdims=keepdims, initial=initial, where=where)\n\u001b[0;32m   2860\u001b[0m \u001b[1;33m\u001b[0m\u001b[0m\n",
      "\u001b[1;32m~\\anaconda3\\lib\\site-packages\\numpy\\core\\fromnumeric.py\u001b[0m in \u001b[0;36m_wrapreduction\u001b[1;34m(obj, ufunc, method, axis, dtype, out, **kwargs)\u001b[0m\n\u001b[0;32m     85\u001b[0m                 \u001b[1;32mreturn\u001b[0m \u001b[0mreduction\u001b[0m\u001b[1;33m(\u001b[0m\u001b[0maxis\u001b[0m\u001b[1;33m=\u001b[0m\u001b[0maxis\u001b[0m\u001b[1;33m,\u001b[0m \u001b[0mout\u001b[0m\u001b[1;33m=\u001b[0m\u001b[0mout\u001b[0m\u001b[1;33m,\u001b[0m \u001b[1;33m**\u001b[0m\u001b[0mpasskwargs\u001b[0m\u001b[1;33m)\u001b[0m\u001b[1;33m\u001b[0m\u001b[1;33m\u001b[0m\u001b[0m\n\u001b[0;32m     86\u001b[0m \u001b[1;33m\u001b[0m\u001b[0m\n\u001b[1;32m---> 87\u001b[1;33m     \u001b[1;32mreturn\u001b[0m \u001b[0mufunc\u001b[0m\u001b[1;33m.\u001b[0m\u001b[0mreduce\u001b[0m\u001b[1;33m(\u001b[0m\u001b[0mobj\u001b[0m\u001b[1;33m,\u001b[0m \u001b[0maxis\u001b[0m\u001b[1;33m,\u001b[0m \u001b[0mdtype\u001b[0m\u001b[1;33m,\u001b[0m \u001b[0mout\u001b[0m\u001b[1;33m,\u001b[0m \u001b[1;33m**\u001b[0m\u001b[0mpasskwargs\u001b[0m\u001b[1;33m)\u001b[0m\u001b[1;33m\u001b[0m\u001b[1;33m\u001b[0m\u001b[0m\n\u001b[0m\u001b[0;32m     88\u001b[0m \u001b[1;33m\u001b[0m\u001b[0m\n\u001b[0;32m     89\u001b[0m \u001b[1;33m\u001b[0m\u001b[0m\n",
      "\u001b[1;31mTypeError\u001b[0m: '<=' not supported between instances of 'int' and 'str'"
     ]
    },
    {
     "data": {
      "image/png": "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\n",
      "text/plain": [
       "<Figure size 1440x792 with 12 Axes>"
      ]
     },
     "metadata": {
      "image/png": {
       "height": 635,
       "width": 1175
      }
     },
     "output_type": "display_data"
    }
   ],
   "source": [
    "# All Numeric Variables' Histograms in one figure\n",
    "sns.set()\n",
    "\n",
    "# Prepare figure. Create individual axes where each histogram will be placed\n",
    "fig, axes = plt.subplots(2, ceil(len(metric_features) / 2), figsize=(20, 11))\n",
    "\n",
    "#ceil is to round the number 11/2=5.5 - it will give 6 colums \n",
    "\n",
    "# Plot data\n",
    "# Iterate across axes objects and associate each histogram (hint: use the ax.hist() instead of plt.hist()):\n",
    "for ax, feat in zip(axes.flatten(), metric_features): # Notice the zip() function and flatten() method\n",
    "    # CODE HERE (extra: set each axis title as the feature name)\n",
    "    \n",
    "# Layout\n",
    "# Add a centered title to the figure:\n",
    "title = \"Numeric Variables' Histograms\"\n",
    "\n",
    "plt.suptitle(title)\n",
    "\n",
    "plt.show()"
   ]
  },
  {
   "cell_type": "code",
   "execution_count": 8,
   "metadata": {},
   "outputs": [
    {
     "ename": "NameError",
     "evalue": "name 'metric_features' is not defined",
     "output_type": "error",
     "traceback": [
      "\u001b[1;31m---------------------------------------------------------------------------\u001b[0m",
      "\u001b[1;31mNameError\u001b[0m                                 Traceback (most recent call last)",
      "\u001b[1;32m<ipython-input-8-491ebc306875>\u001b[0m in \u001b[0;36m<module>\u001b[1;34m\u001b[0m\n\u001b[0;32m      3\u001b[0m \u001b[1;33m\u001b[0m\u001b[0m\n\u001b[0;32m      4\u001b[0m \u001b[1;31m# Prepare figure. Create individual axes where each box plot will be placed\u001b[0m\u001b[1;33m\u001b[0m\u001b[1;33m\u001b[0m\u001b[1;33m\u001b[0m\u001b[0m\n\u001b[1;32m----> 5\u001b[1;33m \u001b[0mfig\u001b[0m\u001b[1;33m,\u001b[0m \u001b[0maxes\u001b[0m \u001b[1;33m=\u001b[0m \u001b[0mplt\u001b[0m\u001b[1;33m.\u001b[0m\u001b[0msubplots\u001b[0m\u001b[1;33m(\u001b[0m\u001b[1;36m2\u001b[0m\u001b[1;33m,\u001b[0m \u001b[0mceil\u001b[0m\u001b[1;33m(\u001b[0m\u001b[0mlen\u001b[0m\u001b[1;33m(\u001b[0m\u001b[0mmetric_features\u001b[0m\u001b[1;33m)\u001b[0m \u001b[1;33m/\u001b[0m \u001b[1;36m2\u001b[0m\u001b[1;33m)\u001b[0m\u001b[1;33m,\u001b[0m \u001b[0mfigsize\u001b[0m\u001b[1;33m=\u001b[0m\u001b[1;33m(\u001b[0m\u001b[1;36m20\u001b[0m\u001b[1;33m,\u001b[0m \u001b[1;36m11\u001b[0m\u001b[1;33m)\u001b[0m\u001b[1;33m)\u001b[0m\u001b[1;33m\u001b[0m\u001b[1;33m\u001b[0m\u001b[0m\n\u001b[0m\u001b[0;32m      6\u001b[0m \u001b[1;33m\u001b[0m\u001b[0m\n\u001b[0;32m      7\u001b[0m \u001b[1;31m# Plot data\u001b[0m\u001b[1;33m\u001b[0m\u001b[1;33m\u001b[0m\u001b[1;33m\u001b[0m\u001b[0m\n",
      "\u001b[1;31mNameError\u001b[0m: name 'metric_features' is not defined"
     ]
    }
   ],
   "source": [
    "# All Numeric Variables' Box Plots in one figure\n",
    "sns.set()\n",
    "\n",
    "# Prepare figure. Create individual axes where each box plot will be placed\n",
    "fig, axes = plt.subplots(2, ceil(len(metric_features) / 2), figsize=(20, 11))\n",
    "\n",
    "# Plot data\n",
    "# Iterate across axes objects and associate each box plot (hint: use the ax argument):\n",
    "for ax, feat in zip(axes.flatten(), metric_features): # Notice the zip() function and flatten() method\n",
    "    # CODE HERE\n",
    "    \n",
    "# Layout\n",
    "# Add a centered title to the figure:\n",
    "title = \"Numeric Variables' Box Plots\"\n",
    "\n",
    "plt.suptitle(title)\n",
    "\n",
    "plt.show()"
   ]
  },
  {
   "cell_type": "markdown",
   "metadata": {},
   "source": [
    "### Insights:\n",
    "- univariate distributions\n",
    "- potential univariate outliers"
   ]
  },
  {
   "cell_type": "markdown",
   "metadata": {},
   "source": [
    "### During our Exploratory Data Analysis (EDA), we must also account for:\n",
    "- Coherence check\n",
    "- Outliers\n",
    "- Missing values\n",
    "- Feature Engineering"
   ]
  },
  {
   "cell_type": "markdown",
   "metadata": {},
   "source": [
    "### Depending on the context, various steps must be considered when performing Data Preprocessing. The most relevant steps are the following:\n",
    "- Coherence check (find inconsistent values, missing values, outliers and any other problem you may find in your dataset)\n",
    "- Data editing (fix inconsistent values)\n",
    "- Data cleansing (drop observations - Outlier removal and removal of inconsistent values and/or features)\n",
    "- Data wrangling (feature extraction/engineering and transformation)\n",
    "- Data reduction (reducing the dimensionality of a dataset, producing summary statistics, reducing the number of records in a dataset)"
   ]
  },
  {
   "cell_type": "markdown",
   "metadata": {},
   "source": [
    "# More Visualizations!"
   ]
  },
  {
   "cell_type": "markdown",
   "metadata": {},
   "source": [
    "## Pairwise Relationship of Numerical Variables"
   ]
  },
  {
   "cell_type": "code",
   "execution_count": 5,
   "metadata": {},
   "outputs": [
    {
     "ename": "ValueError",
     "evalue": "could not convert string to float: ''",
     "output_type": "error",
     "traceback": [
      "\u001b[1;31m---------------------------------------------------------------------------\u001b[0m",
      "\u001b[1;31mValueError\u001b[0m                                Traceback (most recent call last)",
      "\u001b[1;32m<ipython-input-5-829647db161f>\u001b[0m in \u001b[0;36m<module>\u001b[1;34m\u001b[0m\n\u001b[0;32m      1\u001b[0m \u001b[1;31m# Single Metric Variable Scatter plot\u001b[0m\u001b[1;33m\u001b[0m\u001b[1;33m\u001b[0m\u001b[1;33m\u001b[0m\u001b[0m\n\u001b[1;32m----> 2\u001b[1;33m \u001b[0mplt\u001b[0m\u001b[1;33m.\u001b[0m\u001b[0mscatter\u001b[0m\u001b[1;33m(\u001b[0m\u001b[0mdf\u001b[0m\u001b[1;33m[\u001b[0m\u001b[1;34m\"age\"\u001b[0m\u001b[1;33m]\u001b[0m\u001b[1;33m,\u001b[0m \u001b[0mdf\u001b[0m\u001b[1;33m[\u001b[0m\u001b[1;34m\"income\"\u001b[0m\u001b[1;33m]\u001b[0m\u001b[1;33m,\u001b[0m \u001b[0medgecolors\u001b[0m\u001b[1;33m=\u001b[0m\u001b[1;34m\"white\"\u001b[0m\u001b[1;33m)\u001b[0m\u001b[1;33m\u001b[0m\u001b[1;33m\u001b[0m\u001b[0m\n\u001b[0m\u001b[0;32m      3\u001b[0m \u001b[0mplt\u001b[0m\u001b[1;33m.\u001b[0m\u001b[0mxlabel\u001b[0m\u001b[1;33m(\u001b[0m\u001b[1;34m\"age\"\u001b[0m\u001b[1;33m)\u001b[0m\u001b[1;33m\u001b[0m\u001b[1;33m\u001b[0m\u001b[0m\n\u001b[0;32m      4\u001b[0m \u001b[0mplt\u001b[0m\u001b[1;33m.\u001b[0m\u001b[0mylabel\u001b[0m\u001b[1;33m(\u001b[0m\u001b[1;34m\"income\"\u001b[0m\u001b[1;33m)\u001b[0m\u001b[1;33m\u001b[0m\u001b[1;33m\u001b[0m\u001b[0m\n\u001b[0;32m      5\u001b[0m \u001b[1;33m\u001b[0m\u001b[0m\n",
      "\u001b[1;32m~\\anaconda3\\lib\\site-packages\\matplotlib\\pyplot.py\u001b[0m in \u001b[0;36mscatter\u001b[1;34m(x, y, s, c, marker, cmap, norm, vmin, vmax, alpha, linewidths, verts, edgecolors, plotnonfinite, data, **kwargs)\u001b[0m\n\u001b[0;32m   2888\u001b[0m         \u001b[0mverts\u001b[0m\u001b[1;33m=\u001b[0m\u001b[0mcbook\u001b[0m\u001b[1;33m.\u001b[0m\u001b[0mdeprecation\u001b[0m\u001b[1;33m.\u001b[0m\u001b[0m_deprecated_parameter\u001b[0m\u001b[1;33m,\u001b[0m\u001b[1;33m\u001b[0m\u001b[1;33m\u001b[0m\u001b[0m\n\u001b[0;32m   2889\u001b[0m         edgecolors=None, *, plotnonfinite=False, data=None, **kwargs):\n\u001b[1;32m-> 2890\u001b[1;33m     __ret = gca().scatter(\n\u001b[0m\u001b[0;32m   2891\u001b[0m         \u001b[0mx\u001b[0m\u001b[1;33m,\u001b[0m \u001b[0my\u001b[0m\u001b[1;33m,\u001b[0m \u001b[0ms\u001b[0m\u001b[1;33m=\u001b[0m\u001b[0ms\u001b[0m\u001b[1;33m,\u001b[0m \u001b[0mc\u001b[0m\u001b[1;33m=\u001b[0m\u001b[0mc\u001b[0m\u001b[1;33m,\u001b[0m \u001b[0mmarker\u001b[0m\u001b[1;33m=\u001b[0m\u001b[0mmarker\u001b[0m\u001b[1;33m,\u001b[0m \u001b[0mcmap\u001b[0m\u001b[1;33m=\u001b[0m\u001b[0mcmap\u001b[0m\u001b[1;33m,\u001b[0m \u001b[0mnorm\u001b[0m\u001b[1;33m=\u001b[0m\u001b[0mnorm\u001b[0m\u001b[1;33m,\u001b[0m\u001b[1;33m\u001b[0m\u001b[1;33m\u001b[0m\u001b[0m\n\u001b[0;32m   2892\u001b[0m         \u001b[0mvmin\u001b[0m\u001b[1;33m=\u001b[0m\u001b[0mvmin\u001b[0m\u001b[1;33m,\u001b[0m \u001b[0mvmax\u001b[0m\u001b[1;33m=\u001b[0m\u001b[0mvmax\u001b[0m\u001b[1;33m,\u001b[0m \u001b[0malpha\u001b[0m\u001b[1;33m=\u001b[0m\u001b[0malpha\u001b[0m\u001b[1;33m,\u001b[0m \u001b[0mlinewidths\u001b[0m\u001b[1;33m=\u001b[0m\u001b[0mlinewidths\u001b[0m\u001b[1;33m,\u001b[0m\u001b[1;33m\u001b[0m\u001b[1;33m\u001b[0m\u001b[0m\n",
      "\u001b[1;32m~\\anaconda3\\lib\\site-packages\\matplotlib\\__init__.py\u001b[0m in \u001b[0;36minner\u001b[1;34m(ax, data, *args, **kwargs)\u001b[0m\n\u001b[0;32m   1445\u001b[0m     \u001b[1;32mdef\u001b[0m \u001b[0minner\u001b[0m\u001b[1;33m(\u001b[0m\u001b[0max\u001b[0m\u001b[1;33m,\u001b[0m \u001b[1;33m*\u001b[0m\u001b[0margs\u001b[0m\u001b[1;33m,\u001b[0m \u001b[0mdata\u001b[0m\u001b[1;33m=\u001b[0m\u001b[1;32mNone\u001b[0m\u001b[1;33m,\u001b[0m \u001b[1;33m**\u001b[0m\u001b[0mkwargs\u001b[0m\u001b[1;33m)\u001b[0m\u001b[1;33m:\u001b[0m\u001b[1;33m\u001b[0m\u001b[1;33m\u001b[0m\u001b[0m\n\u001b[0;32m   1446\u001b[0m         \u001b[1;32mif\u001b[0m \u001b[0mdata\u001b[0m \u001b[1;32mis\u001b[0m \u001b[1;32mNone\u001b[0m\u001b[1;33m:\u001b[0m\u001b[1;33m\u001b[0m\u001b[1;33m\u001b[0m\u001b[0m\n\u001b[1;32m-> 1447\u001b[1;33m             \u001b[1;32mreturn\u001b[0m \u001b[0mfunc\u001b[0m\u001b[1;33m(\u001b[0m\u001b[0max\u001b[0m\u001b[1;33m,\u001b[0m \u001b[1;33m*\u001b[0m\u001b[0mmap\u001b[0m\u001b[1;33m(\u001b[0m\u001b[0msanitize_sequence\u001b[0m\u001b[1;33m,\u001b[0m \u001b[0margs\u001b[0m\u001b[1;33m)\u001b[0m\u001b[1;33m,\u001b[0m \u001b[1;33m**\u001b[0m\u001b[0mkwargs\u001b[0m\u001b[1;33m)\u001b[0m\u001b[1;33m\u001b[0m\u001b[1;33m\u001b[0m\u001b[0m\n\u001b[0m\u001b[0;32m   1448\u001b[0m \u001b[1;33m\u001b[0m\u001b[0m\n\u001b[0;32m   1449\u001b[0m         \u001b[0mbound\u001b[0m \u001b[1;33m=\u001b[0m \u001b[0mnew_sig\u001b[0m\u001b[1;33m.\u001b[0m\u001b[0mbind\u001b[0m\u001b[1;33m(\u001b[0m\u001b[0max\u001b[0m\u001b[1;33m,\u001b[0m \u001b[1;33m*\u001b[0m\u001b[0margs\u001b[0m\u001b[1;33m,\u001b[0m \u001b[1;33m**\u001b[0m\u001b[0mkwargs\u001b[0m\u001b[1;33m)\u001b[0m\u001b[1;33m\u001b[0m\u001b[1;33m\u001b[0m\u001b[0m\n",
      "\u001b[1;32m~\\anaconda3\\lib\\site-packages\\matplotlib\\cbook\\deprecation.py\u001b[0m in \u001b[0;36mwrapper\u001b[1;34m(*inner_args, **inner_kwargs)\u001b[0m\n\u001b[0;32m    409\u001b[0m                          \u001b[1;32melse\u001b[0m \u001b[0mdeprecation_addendum\u001b[0m\u001b[1;33m,\u001b[0m\u001b[1;33m\u001b[0m\u001b[1;33m\u001b[0m\u001b[0m\n\u001b[0;32m    410\u001b[0m                 **kwargs)\n\u001b[1;32m--> 411\u001b[1;33m         \u001b[1;32mreturn\u001b[0m \u001b[0mfunc\u001b[0m\u001b[1;33m(\u001b[0m\u001b[1;33m*\u001b[0m\u001b[0minner_args\u001b[0m\u001b[1;33m,\u001b[0m \u001b[1;33m**\u001b[0m\u001b[0minner_kwargs\u001b[0m\u001b[1;33m)\u001b[0m\u001b[1;33m\u001b[0m\u001b[1;33m\u001b[0m\u001b[0m\n\u001b[0m\u001b[0;32m    412\u001b[0m \u001b[1;33m\u001b[0m\u001b[0m\n\u001b[0;32m    413\u001b[0m     \u001b[1;32mreturn\u001b[0m \u001b[0mwrapper\u001b[0m\u001b[1;33m\u001b[0m\u001b[1;33m\u001b[0m\u001b[0m\n",
      "\u001b[1;32m~\\anaconda3\\lib\\site-packages\\matplotlib\\axes\\_axes.py\u001b[0m in \u001b[0;36mscatter\u001b[1;34m(self, x, y, s, c, marker, cmap, norm, vmin, vmax, alpha, linewidths, verts, edgecolors, plotnonfinite, **kwargs)\u001b[0m\n\u001b[0;32m   4486\u001b[0m         \u001b[0moffsets\u001b[0m \u001b[1;33m=\u001b[0m \u001b[0mnp\u001b[0m\u001b[1;33m.\u001b[0m\u001b[0mma\u001b[0m\u001b[1;33m.\u001b[0m\u001b[0mcolumn_stack\u001b[0m\u001b[1;33m(\u001b[0m\u001b[1;33m[\u001b[0m\u001b[0mx\u001b[0m\u001b[1;33m,\u001b[0m \u001b[0my\u001b[0m\u001b[1;33m]\u001b[0m\u001b[1;33m)\u001b[0m\u001b[1;33m\u001b[0m\u001b[1;33m\u001b[0m\u001b[0m\n\u001b[0;32m   4487\u001b[0m \u001b[1;33m\u001b[0m\u001b[0m\n\u001b[1;32m-> 4488\u001b[1;33m         collection = mcoll.PathCollection(\n\u001b[0m\u001b[0;32m   4489\u001b[0m                 \u001b[1;33m(\u001b[0m\u001b[0mpath\u001b[0m\u001b[1;33m,\u001b[0m\u001b[1;33m)\u001b[0m\u001b[1;33m,\u001b[0m \u001b[0mscales\u001b[0m\u001b[1;33m,\u001b[0m\u001b[1;33m\u001b[0m\u001b[1;33m\u001b[0m\u001b[0m\n\u001b[0;32m   4490\u001b[0m                 \u001b[0mfacecolors\u001b[0m\u001b[1;33m=\u001b[0m\u001b[0mcolors\u001b[0m\u001b[1;33m,\u001b[0m\u001b[1;33m\u001b[0m\u001b[1;33m\u001b[0m\u001b[0m\n",
      "\u001b[1;32m~\\anaconda3\\lib\\site-packages\\matplotlib\\collections.py\u001b[0m in \u001b[0;36m__init__\u001b[1;34m(self, paths, sizes, **kwargs)\u001b[0m\n\u001b[0;32m    951\u001b[0m         \"\"\"\n\u001b[0;32m    952\u001b[0m \u001b[1;33m\u001b[0m\u001b[0m\n\u001b[1;32m--> 953\u001b[1;33m         \u001b[0msuper\u001b[0m\u001b[1;33m(\u001b[0m\u001b[1;33m)\u001b[0m\u001b[1;33m.\u001b[0m\u001b[0m__init__\u001b[0m\u001b[1;33m(\u001b[0m\u001b[1;33m**\u001b[0m\u001b[0mkwargs\u001b[0m\u001b[1;33m)\u001b[0m\u001b[1;33m\u001b[0m\u001b[1;33m\u001b[0m\u001b[0m\n\u001b[0m\u001b[0;32m    954\u001b[0m         \u001b[0mself\u001b[0m\u001b[1;33m.\u001b[0m\u001b[0mset_paths\u001b[0m\u001b[1;33m(\u001b[0m\u001b[0mpaths\u001b[0m\u001b[1;33m)\u001b[0m\u001b[1;33m\u001b[0m\u001b[1;33m\u001b[0m\u001b[0m\n\u001b[0;32m    955\u001b[0m         \u001b[0mself\u001b[0m\u001b[1;33m.\u001b[0m\u001b[0mset_sizes\u001b[0m\u001b[1;33m(\u001b[0m\u001b[0msizes\u001b[0m\u001b[1;33m)\u001b[0m\u001b[1;33m\u001b[0m\u001b[1;33m\u001b[0m\u001b[0m\n",
      "\u001b[1;32m~\\anaconda3\\lib\\site-packages\\matplotlib\\cbook\\deprecation.py\u001b[0m in \u001b[0;36mwrapper\u001b[1;34m(*inner_args, **inner_kwargs)\u001b[0m\n\u001b[0;32m    409\u001b[0m                          \u001b[1;32melse\u001b[0m \u001b[0mdeprecation_addendum\u001b[0m\u001b[1;33m,\u001b[0m\u001b[1;33m\u001b[0m\u001b[1;33m\u001b[0m\u001b[0m\n\u001b[0;32m    410\u001b[0m                 **kwargs)\n\u001b[1;32m--> 411\u001b[1;33m         \u001b[1;32mreturn\u001b[0m \u001b[0mfunc\u001b[0m\u001b[1;33m(\u001b[0m\u001b[1;33m*\u001b[0m\u001b[0minner_args\u001b[0m\u001b[1;33m,\u001b[0m \u001b[1;33m**\u001b[0m\u001b[0minner_kwargs\u001b[0m\u001b[1;33m)\u001b[0m\u001b[1;33m\u001b[0m\u001b[1;33m\u001b[0m\u001b[0m\n\u001b[0m\u001b[0;32m    412\u001b[0m \u001b[1;33m\u001b[0m\u001b[0m\n\u001b[0;32m    413\u001b[0m     \u001b[1;32mreturn\u001b[0m \u001b[0mwrapper\u001b[0m\u001b[1;33m\u001b[0m\u001b[1;33m\u001b[0m\u001b[0m\n",
      "\u001b[1;32m~\\anaconda3\\lib\\site-packages\\matplotlib\\collections.py\u001b[0m in \u001b[0;36m__init__\u001b[1;34m(self, edgecolors, facecolors, linewidths, linestyles, capstyle, joinstyle, antialiaseds, offsets, transOffset, norm, cmap, pickradius, hatch, urls, offset_position, zorder, **kwargs)\u001b[0m\n\u001b[0;32m    200\u001b[0m         \u001b[0mself\u001b[0m\u001b[1;33m.\u001b[0m\u001b[0m_uniform_offsets\u001b[0m \u001b[1;33m=\u001b[0m \u001b[1;32mNone\u001b[0m\u001b[1;33m\u001b[0m\u001b[1;33m\u001b[0m\u001b[0m\n\u001b[0;32m    201\u001b[0m         \u001b[1;32mif\u001b[0m \u001b[0moffsets\u001b[0m \u001b[1;32mis\u001b[0m \u001b[1;32mnot\u001b[0m \u001b[1;32mNone\u001b[0m\u001b[1;33m:\u001b[0m\u001b[1;33m\u001b[0m\u001b[1;33m\u001b[0m\u001b[0m\n\u001b[1;32m--> 202\u001b[1;33m             \u001b[0moffsets\u001b[0m \u001b[1;33m=\u001b[0m \u001b[0mnp\u001b[0m\u001b[1;33m.\u001b[0m\u001b[0masanyarray\u001b[0m\u001b[1;33m(\u001b[0m\u001b[0moffsets\u001b[0m\u001b[1;33m,\u001b[0m \u001b[0mfloat\u001b[0m\u001b[1;33m)\u001b[0m\u001b[1;33m\u001b[0m\u001b[1;33m\u001b[0m\u001b[0m\n\u001b[0m\u001b[0;32m    203\u001b[0m             \u001b[1;31m# Broadcast (2,) -> (1, 2) but nothing else.\u001b[0m\u001b[1;33m\u001b[0m\u001b[1;33m\u001b[0m\u001b[1;33m\u001b[0m\u001b[0m\n\u001b[0;32m    204\u001b[0m             \u001b[1;32mif\u001b[0m \u001b[0moffsets\u001b[0m\u001b[1;33m.\u001b[0m\u001b[0mshape\u001b[0m \u001b[1;33m==\u001b[0m \u001b[1;33m(\u001b[0m\u001b[1;36m2\u001b[0m\u001b[1;33m,\u001b[0m\u001b[1;33m)\u001b[0m\u001b[1;33m:\u001b[0m\u001b[1;33m\u001b[0m\u001b[1;33m\u001b[0m\u001b[0m\n",
      "\u001b[1;32m~\\anaconda3\\lib\\site-packages\\numpy\\core\\_asarray.py\u001b[0m in \u001b[0;36masanyarray\u001b[1;34m(a, dtype, order, like)\u001b[0m\n\u001b[0;32m    169\u001b[0m         \u001b[1;32mreturn\u001b[0m \u001b[0m_asanyarray_with_like\u001b[0m\u001b[1;33m(\u001b[0m\u001b[0ma\u001b[0m\u001b[1;33m,\u001b[0m \u001b[0mdtype\u001b[0m\u001b[1;33m=\u001b[0m\u001b[0mdtype\u001b[0m\u001b[1;33m,\u001b[0m \u001b[0morder\u001b[0m\u001b[1;33m=\u001b[0m\u001b[0morder\u001b[0m\u001b[1;33m,\u001b[0m \u001b[0mlike\u001b[0m\u001b[1;33m=\u001b[0m\u001b[0mlike\u001b[0m\u001b[1;33m)\u001b[0m\u001b[1;33m\u001b[0m\u001b[1;33m\u001b[0m\u001b[0m\n\u001b[0;32m    170\u001b[0m \u001b[1;33m\u001b[0m\u001b[0m\n\u001b[1;32m--> 171\u001b[1;33m     \u001b[1;32mreturn\u001b[0m \u001b[0marray\u001b[0m\u001b[1;33m(\u001b[0m\u001b[0ma\u001b[0m\u001b[1;33m,\u001b[0m \u001b[0mdtype\u001b[0m\u001b[1;33m,\u001b[0m \u001b[0mcopy\u001b[0m\u001b[1;33m=\u001b[0m\u001b[1;32mFalse\u001b[0m\u001b[1;33m,\u001b[0m \u001b[0morder\u001b[0m\u001b[1;33m=\u001b[0m\u001b[0morder\u001b[0m\u001b[1;33m,\u001b[0m \u001b[0msubok\u001b[0m\u001b[1;33m=\u001b[0m\u001b[1;32mTrue\u001b[0m\u001b[1;33m)\u001b[0m\u001b[1;33m\u001b[0m\u001b[1;33m\u001b[0m\u001b[0m\n\u001b[0m\u001b[0;32m    172\u001b[0m \u001b[1;33m\u001b[0m\u001b[0m\n\u001b[0;32m    173\u001b[0m \u001b[1;33m\u001b[0m\u001b[0m\n",
      "\u001b[1;31mValueError\u001b[0m: could not convert string to float: ''"
     ]
    },
    {
     "data": {
      "image/png": "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\n",
      "text/plain": [
       "<Figure size 432x288 with 1 Axes>"
      ]
     },
     "metadata": {
      "image/png": {
       "height": 255,
       "width": 381
      }
     },
     "output_type": "display_data"
    }
   ],
   "source": [
    "# Single Metric Variable Scatter plot\n",
    "plt.scatter(df[\"age\"], df[\"income\"], edgecolors=\"white\")\n",
    "plt.xlabel(\"age\")\n",
    "plt.ylabel(\"income\")\n",
    "\n",
    "plt.show()"
   ]
  },
  {
   "cell_type": "code",
   "execution_count": null,
   "metadata": {
    "scrolled": false
   },
   "outputs": [],
   "source": [
    "# Pairwise Relationship of Numerical Variables\n",
    "sns.set()\n",
    "\n",
    "# Setting pairplot\n",
    "sns.pairplot(df[metric_features], diag_kind=\"hist\")\n",
    "\n",
    "# Layout\n",
    "plt.subplots_adjust(top=0.95)\n",
    "plt.suptitle(\"Pairwise Relationship of Numerical Variables\", fontsize=20)\n",
    "\n",
    "plt.show()"
   ]
  },
  {
   "cell_type": "markdown",
   "metadata": {},
   "source": [
    "### Insights:\n",
    "- possible bivariate relationships\n",
    "- potential bivariate outliers\n",
    "- univariate distributions (diagonal)"
   ]
  },
  {
   "cell_type": "markdown",
   "metadata": {},
   "source": [
    "### Example of Visualization formatting"
   ]
  },
  {
   "cell_type": "code",
   "execution_count": null,
   "metadata": {},
   "outputs": [],
   "source": [
    "# making a joint plot with default formatting\n",
    "sns.jointplot(data=df, x=\"house_keeping\", y=\"frq\")\n",
    "plt.show()"
   ]
  },
  {
   "cell_type": "code",
   "execution_count": null,
   "metadata": {},
   "outputs": [],
   "source": [
    "# Making the same visualization with customized formatting\n",
    "sns.set(style=\"ticks\")\n",
    "sns.jointplot(data=df, x=\"house_keeping\", y=\"frq\", kind=\"hex\", color=\"red\")\n",
    "plt.show()"
   ]
  },
  {
   "cell_type": "markdown",
   "metadata": {},
   "source": [
    "## Categorical/Low Cardinality Variables' Absolute Frequencies"
   ]
  },
  {
   "cell_type": "code",
   "execution_count": null,
   "metadata": {
    "scrolled": false
   },
   "outputs": [],
   "source": [
    "# Single Non-Metric variable bar plot\n",
    "sns.set() # this resets our formatting defaults\n",
    "sns.countplot(x=df[\"education\"])\n",
    "\n",
    "plt.show()"
   ]
  },
  {
   "cell_type": "code",
   "execution_count": null,
   "metadata": {},
   "outputs": [],
   "source": [
    "# formatting the color of a simple bar chart\n",
    "sns.countplot(x=df[\"education\"], color='#007acc')\n",
    "\n",
    "# try replacing the color to 'red' or 'blue', instead of using an RGB code.\n",
    "# alternatively, you can get the RGB code for a given color here:\n",
    "# https://www.w3schools.com/colors/colors_picker.asp\n",
    "# keep in mind any other color picker will do just as well\n",
    "\n",
    "plt.show()"
   ]
  },
  {
   "cell_type": "markdown",
   "metadata": {},
   "source": [
    "What information can we extract from the plot above?\n",
    "\n",
    "**Using the same logic from the multiple box plot figure above, build a multiple bar plot figure for each non-metric variable:**"
   ]
  },
  {
   "cell_type": "code",
   "execution_count": null,
   "metadata": {},
   "outputs": [],
   "source": [
    "# All Non-Metric Variables' Absolute Frequencies\n",
    "sns.set()\n",
    "title = \"Categorical/Low Cardinality Variables' Absolute Frequencies\"\n",
    "# CODE HERE"
   ]
  },
  {
   "cell_type": "markdown",
   "metadata": {},
   "source": [
    "### Insights:\n",
    "- low frequency values\n",
    "- high cardinality"
   ]
  },
  {
   "cell_type": "markdown",
   "metadata": {},
   "source": [
    "## Comparing two categorical variables"
   ]
  },
  {
   "cell_type": "code",
   "execution_count": null,
   "metadata": {},
   "outputs": [],
   "source": [
    "# Let's break this down, step by step (pandas plot - matplotlib behind)\n",
    "sns.set()\n",
    "df_counts = df\\\n",
    "    .groupby(['description', 'dependents'])\\\n",
    "    .size()\\\n",
    "    .unstack()\\\n",
    "    .plot.bar(stacked=True)"
   ]
  },
  {
   "cell_type": "markdown",
   "metadata": {},
   "source": [
    "## Comparing a categorical variable vs continuous (or discrete) variables"
   ]
  },
  {
   "cell_type": "code",
   "execution_count": null,
   "metadata": {},
   "outputs": [],
   "source": [
    "# Pairwise Relationship of Numerical Variables using a categorical variable hue\n",
    "sns.set()\n",
    "\n",
    "# Setting pairplot\n",
    "sns.pairplot(df[metric_features + ['gender']], diag_kind=\"hist\", hue='gender')\n",
    "\n",
    "# Layout\n",
    "plt.subplots_adjust(top=0.95)\n",
    "plt.suptitle(\"Pairwise Relationship of Numerical Variables\", fontsize=20)\n",
    "\n",
    "plt.show()"
   ]
  },
  {
   "cell_type": "markdown",
   "metadata": {},
   "source": [
    "## Explore categorical data vs continuous and discrete data\n",
    "\n",
    "Another example of visualization. Although it is not a simple visualization to produce, it can be very informative. Let's start off simple and then let's customize the plot's appearance."
   ]
  },
  {
   "cell_type": "code",
   "execution_count": null,
   "metadata": {},
   "outputs": [],
   "source": [
    "# notice we drop missing values in order to not plot it as a distinct value\n",
    "educ_vals = df.education.dropna().unique()\n",
    "\n",
    "fig, axes = plt.subplots(len(metric_features), len(educ_vals), figsize=(25,18), sharex=True, sharey=\"row\")\n",
    "\n",
    "for ax, (feat, educ_deg) in zip(axes.flatten(), product(metric_features, educ_vals)):\n",
    "    # get the data for each subplot\n",
    "    data = df[df.education == educ_deg]\n",
    "    data['dependents'] = data['dependents'].astype(object)\n",
    "    \n",
    "    # we are distinguishing points according to the variable \"dependents\"\n",
    "    sns.pointplot(x=\"dependents\", y=feat, hue=\"gender\", hue_order=[\"F\", \"M\"], data=data, capsize=.2,\n",
    "             height=6, aspect=.75, ax=ax)\n",
    "    \n",
    "    # remove the typical default y and x labels and legend of each axis\n",
    "    # CODE HERE\n",
    "\n",
    "# set columns' titles (education)\n",
    "# CODE HERE\n",
    "\n",
    "# set metric names\n",
    "# CODE HERE\n",
    "\n",
    "# set x axis label (dependents)\n",
    "# CODE HERE\n",
    "\n",
    "# Set legend (gender)\n",
    "# CODE HERE\n",
    "\n",
    "# set figure\n",
    "plt.subplots_adjust(top=0.92)\n",
    "plt.suptitle(\"Three-way ANOVA for each metric variable\", fontsize=25)\n",
    "\n",
    "plt.show()"
   ]
  },
  {
   "cell_type": "markdown",
   "metadata": {},
   "source": [
    "## Metric Variables' Correlation Matrix"
   ]
  },
  {
   "cell_type": "code",
   "execution_count": null,
   "metadata": {},
   "outputs": [],
   "source": [
    "# Prepare figure\n",
    "fig = plt.figure(figsize=(10, 8))\n",
    "\n",
    "# Obtain correlation matrix. Round the values to 2 decimal cases. Use the DataFrame corr() and round() method.\n",
    "corr = # CODE HERE\n",
    "\n",
    "# Build annotation matrix (values above |0.5| will appear annotated in the plot)\n",
    "mask_annot = np.absolute(corr.values) >= 0.5\n",
    "annot = np.where(mask_annot, corr.values, np.full(corr.shape,\"\")) # Try to understand what this np.where() does\n",
    "\n",
    "# Plot heatmap of the correlation matrix\n",
    "sns.heatmap(data=corr, annot=annot, cmap=sns.diverging_palette(220, 10, as_cmap=True), \n",
    "            fmt='s', vmin=-1, vmax=1, center=0, square=True, linewidths=.5)\n",
    "\n",
    "# Layout\n",
    "fig.subplots_adjust(top=0.95)\n",
    "fig.suptitle(\"Correlation Matrix\", fontsize=20)\n",
    "\n",
    "plt.show()"
   ]
  },
  {
   "cell_type": "markdown",
   "metadata": {},
   "source": [
    "# A tool to assist you through your exploratory data analysis\n",
    "\n",
    "Optionally, you may use `pandas-profiling` as a first approach to your data analysis. Remember, although this tool provides excelent insights about the data you're working with, it is not enough to perform a proper analysis."
   ]
  },
  {
   "cell_type": "code",
   "execution_count": null,
   "metadata": {},
   "outputs": [],
   "source": [
    "profile = ProfileReport(\n",
    "    df, \n",
    "    title='Tugas Customer Data',\n",
    "    correlations={\n",
    "        \"pearson\": {\"calculate\": True},\n",
    "        \"spearman\": {\"calculate\": False},\n",
    "        \"kendall\": {\"calculate\": False},\n",
    "        \"phi_k\": {\"calculate\": False},\n",
    "        \"cramers\": {\"calculate\": False},\n",
    "    },\n",
    ")"
   ]
  },
  {
   "cell_type": "code",
   "execution_count": null,
   "metadata": {
    "scrolled": false
   },
   "outputs": [],
   "source": [
    "profile.to_notebook_iframe()"
   ]
  },
  {
   "cell_type": "code",
   "execution_count": null,
   "metadata": {},
   "outputs": [],
   "source": []
  }
 ],
 "metadata": {
  "kernelspec": {
   "name": "python3",
   "display_name": "Python 3.9.7 64-bit ('dmdsaa': conda)"
  },
  "language_info": {
   "codemirror_mode": {
    "name": "ipython",
    "version": 3
   },
   "file_extension": ".py",
   "mimetype": "text/x-python",
   "name": "python",
   "nbconvert_exporter": "python",
   "pygments_lexer": "ipython3",
<<<<<<< Updated upstream
   "version": "3.9.7"
  },
  "interpreter": {
   "hash": "ac7e543e3dc0a459e5fc74c7d4413fcaeb35c3e687aaed9aa2b436df8f882b43"
=======
   "version": "3.8.8"
>>>>>>> Stashed changes
  }
 },
 "nbformat": 4,
 "nbformat_minor": 4
}
